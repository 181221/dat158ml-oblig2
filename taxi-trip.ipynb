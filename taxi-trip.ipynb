{
 "cells": [
  {
   "cell_type": "markdown",
   "metadata": {},
   "source": [
    "## Taxi Trip Duration\n",
    "1. Frame the problem and look at the big picture\n",
    "2. Get the data\n",
    "3. Explore the data to gain insights\n",
    "4. Prepare the data to better expose the underlying data patterns to machine learning algorithms\n",
    "5. Explore many different models and short-list the best ones\n",
    "6. Fine-tune your models and combine them into a great solution\n",
    "7. Present your solution\n",
    "8. Launch, monitor and maintain your system\n"
   ]
  },
  {
   "cell_type": "markdown",
   "metadata": {},
   "source": [
    "## Frame the problem and look at the big picture"
   ]
  },
  {
   "cell_type": "markdown",
   "metadata": {},
   "source": [
    "The dataset is based on the 2016 NYC Yellow Cab trip record data made available in Big Query on Google Cloud Platform. The data was originally published by the NYC Taxi and Limousine Commission (TLC). The data was sampled and cleaned for the purposes of this playground competition. \n",
    "In this project the goal is to make a model based on individual trip attributes, to be able to predict the duration of each trip in the test set.\n"
   ]
  },
  {
   "cell_type": "markdown",
   "metadata": {},
   "source": [
    "## Get the data"
   ]
  },
  {
   "cell_type": "code",
   "execution_count": 1,
   "metadata": {},
   "outputs": [],
   "source": [
    "# get data for dataset\n",
    "\n",
    "# Common imports\n",
    "import numpy as np\n",
    "import os\n",
    "# to make this notebook's output stable across runs\n",
    "np.random.seed(42)\n",
    "# To plot pretty figures\n",
    "%matplotlib inline\n",
    "import matplotlib\n",
    "import matplotlib.pyplot as plt\n",
    "import pandas as pd\n",
    "\n",
    "plt.rcParams['axes.labelsize'] = 14\n",
    "plt.rcParams['xtick.labelsize'] = 12\n",
    "plt.rcParams['ytick.labelsize'] = 12\n",
    "\n",
    "import os\n",
    "import tarfile\n",
    "from six.moves import urllib\n",
    "\n",
    "TAXI_PATH = os.path.join(\"data\", \"taxi\")\n",
    "\n",
    "def load_taxi_data(taxi_path=TAXI_PATH):\n",
    "    csv_path = os.path.join(taxi_path, \"train.csv\")\n",
    "    return pd.read_csv(csv_path)\n",
    "\n",
    "import warnings\n",
    "warnings.filterwarnings(action=\"ignore\", message=\"^RuntimeWarning\")"
   ]
  },
  {
   "cell_type": "code",
   "execution_count": 2,
   "metadata": {},
   "outputs": [
    {
     "name": "stdout",
     "output_type": "stream",
     "text": [
      "<class 'pandas.core.frame.DataFrame'>\n",
      "RangeIndex: 1458644 entries, 0 to 1458643\n",
      "Data columns (total 11 columns):\n",
      "id                    1458644 non-null object\n",
      "vendor_id             1458644 non-null int64\n",
      "pickup_datetime       1458644 non-null object\n",
      "dropoff_datetime      1458644 non-null object\n",
      "passenger_count       1458644 non-null int64\n",
      "pickup_longitude      1458644 non-null float64\n",
      "pickup_latitude       1458644 non-null float64\n",
      "dropoff_longitude     1458644 non-null float64\n",
      "dropoff_latitude      1458644 non-null float64\n",
      "store_and_fwd_flag    1458644 non-null object\n",
      "trip_duration         1458644 non-null int64\n",
      "dtypes: float64(4), int64(3), object(4)\n",
      "memory usage: 122.4+ MB\n"
     ]
    }
   ],
   "source": [
    "taxi = load_taxi_data()\n",
    "csv_path = os.path.join(TAXI_PATH, \"test.csv\")\n",
    "test_set = pd.read_csv(csv_path)\n",
    "taxi.info()"
   ]
  },
  {
   "cell_type": "code",
   "execution_count": 3,
   "metadata": {},
   "outputs": [
    {
     "name": "stdout",
     "output_type": "stream",
     "text": [
      "<class 'pandas.core.frame.DataFrame'>\n",
      "Int64Index: 145864 entries, 67250 to 657429\n",
      "Data columns (total 11 columns):\n",
      "id                    145864 non-null object\n",
      "vendor_id             145864 non-null int64\n",
      "pickup_datetime       145864 non-null object\n",
      "dropoff_datetime      145864 non-null object\n",
      "passenger_count       145864 non-null int64\n",
      "pickup_longitude      145864 non-null float64\n",
      "pickup_latitude       145864 non-null float64\n",
      "dropoff_longitude     145864 non-null float64\n",
      "dropoff_latitude      145864 non-null float64\n",
      "store_and_fwd_flag    145864 non-null object\n",
      "trip_duration         145864 non-null int64\n",
      "dtypes: float64(4), int64(3), object(4)\n",
      "memory usage: 13.4+ MB\n"
     ]
    }
   ],
   "source": [
    "taxi_samples = taxi.sample(frac=0.10)\n",
    "taxi_samples.info()"
   ]
  },
  {
   "cell_type": "code",
   "execution_count": 4,
   "metadata": {},
   "outputs": [
    {
     "data": {
      "text/html": [
       "<div>\n",
       "<style scoped>\n",
       "    .dataframe tbody tr th:only-of-type {\n",
       "        vertical-align: middle;\n",
       "    }\n",
       "\n",
       "    .dataframe tbody tr th {\n",
       "        vertical-align: top;\n",
       "    }\n",
       "\n",
       "    .dataframe thead th {\n",
       "        text-align: right;\n",
       "    }\n",
       "</style>\n",
       "<table border=\"1\" class=\"dataframe\">\n",
       "  <thead>\n",
       "    <tr style=\"text-align: right;\">\n",
       "      <th></th>\n",
       "      <th>id</th>\n",
       "      <th>vendor_id</th>\n",
       "      <th>pickup_datetime</th>\n",
       "      <th>dropoff_datetime</th>\n",
       "      <th>passenger_count</th>\n",
       "      <th>pickup_longitude</th>\n",
       "      <th>pickup_latitude</th>\n",
       "      <th>dropoff_longitude</th>\n",
       "      <th>dropoff_latitude</th>\n",
       "      <th>store_and_fwd_flag</th>\n",
       "      <th>trip_duration</th>\n",
       "    </tr>\n",
       "  </thead>\n",
       "  <tbody>\n",
       "    <tr>\n",
       "      <th>67250</th>\n",
       "      <td>id2793718</td>\n",
       "      <td>2</td>\n",
       "      <td>2016-06-08 07:36:19</td>\n",
       "      <td>2016-06-08 07:53:39</td>\n",
       "      <td>1</td>\n",
       "      <td>-73.985611</td>\n",
       "      <td>40.735943</td>\n",
       "      <td>-73.980331</td>\n",
       "      <td>40.760468</td>\n",
       "      <td>N</td>\n",
       "      <td>1040</td>\n",
       "    </tr>\n",
       "    <tr>\n",
       "      <th>1397036</th>\n",
       "      <td>id3485529</td>\n",
       "      <td>2</td>\n",
       "      <td>2016-04-03 12:58:11</td>\n",
       "      <td>2016-04-03 13:11:58</td>\n",
       "      <td>1</td>\n",
       "      <td>-73.978394</td>\n",
       "      <td>40.764351</td>\n",
       "      <td>-73.991623</td>\n",
       "      <td>40.749859</td>\n",
       "      <td>N</td>\n",
       "      <td>827</td>\n",
       "    </tr>\n",
       "    <tr>\n",
       "      <th>1021087</th>\n",
       "      <td>id1816614</td>\n",
       "      <td>2</td>\n",
       "      <td>2016-06-05 02:49:13</td>\n",
       "      <td>2016-06-05 02:59:27</td>\n",
       "      <td>5</td>\n",
       "      <td>-73.989059</td>\n",
       "      <td>40.744389</td>\n",
       "      <td>-73.973381</td>\n",
       "      <td>40.748692</td>\n",
       "      <td>N</td>\n",
       "      <td>614</td>\n",
       "    </tr>\n",
       "    <tr>\n",
       "      <th>951424</th>\n",
       "      <td>id1050851</td>\n",
       "      <td>2</td>\n",
       "      <td>2016-05-05 17:18:27</td>\n",
       "      <td>2016-05-05 17:32:54</td>\n",
       "      <td>2</td>\n",
       "      <td>-73.990326</td>\n",
       "      <td>40.731136</td>\n",
       "      <td>-73.991264</td>\n",
       "      <td>40.748917</td>\n",
       "      <td>N</td>\n",
       "      <td>867</td>\n",
       "    </tr>\n",
       "    <tr>\n",
       "      <th>707882</th>\n",
       "      <td>id0140657</td>\n",
       "      <td>1</td>\n",
       "      <td>2016-05-12 17:43:38</td>\n",
       "      <td>2016-05-12 19:06:25</td>\n",
       "      <td>4</td>\n",
       "      <td>-73.789497</td>\n",
       "      <td>40.646675</td>\n",
       "      <td>-73.987137</td>\n",
       "      <td>40.759232</td>\n",
       "      <td>N</td>\n",
       "      <td>4967</td>\n",
       "    </tr>\n",
       "  </tbody>\n",
       "</table>\n",
       "</div>"
      ],
      "text/plain": [
       "                id  vendor_id      pickup_datetime     dropoff_datetime  \\\n",
       "67250    id2793718          2  2016-06-08 07:36:19  2016-06-08 07:53:39   \n",
       "1397036  id3485529          2  2016-04-03 12:58:11  2016-04-03 13:11:58   \n",
       "1021087  id1816614          2  2016-06-05 02:49:13  2016-06-05 02:59:27   \n",
       "951424   id1050851          2  2016-05-05 17:18:27  2016-05-05 17:32:54   \n",
       "707882   id0140657          1  2016-05-12 17:43:38  2016-05-12 19:06:25   \n",
       "\n",
       "         passenger_count  pickup_longitude  pickup_latitude  \\\n",
       "67250                  1        -73.985611        40.735943   \n",
       "1397036                1        -73.978394        40.764351   \n",
       "1021087                5        -73.989059        40.744389   \n",
       "951424                 2        -73.990326        40.731136   \n",
       "707882                 4        -73.789497        40.646675   \n",
       "\n",
       "         dropoff_longitude  dropoff_latitude store_and_fwd_flag  trip_duration  \n",
       "67250           -73.980331         40.760468                  N           1040  \n",
       "1397036         -73.991623         40.749859                  N            827  \n",
       "1021087         -73.973381         40.748692                  N            614  \n",
       "951424          -73.991264         40.748917                  N            867  \n",
       "707882          -73.987137         40.759232                  N           4967  "
      ]
     },
     "execution_count": 4,
     "metadata": {},
     "output_type": "execute_result"
    }
   ],
   "source": [
    "taxi_samples.head()"
   ]
  },
  {
   "cell_type": "code",
   "execution_count": 5,
   "metadata": {},
   "outputs": [
    {
     "data": {
      "text/plain": [
       "<matplotlib.axes._subplots.AxesSubplot at 0x7fae6d2a78d0>"
      ]
     },
     "execution_count": 5,
     "metadata": {},
     "output_type": "execute_result"
    },
    {
     "data": {
      "image/png": "[encoded data removed]",
      "text/plain": [
       "<Figure size 432x288 with 2 Axes>"
      ]
     },
     "metadata": {
      "needs_background": "light"
     },
     "output_type": "display_data"
    }
   ],
   "source": [
    "import seaborn as sns\n",
    "sns.heatmap(taxi_samples.corr(), cmap='Blues')"
   ]
  },
  {
   "cell_type": "code",
   "execution_count": 6,
   "metadata": {},
   "outputs": [
    {
     "data": {
      "text/html": [
       "<div>\n",
       "<style scoped>\n",
       "    .dataframe tbody tr th:only-of-type {\n",
       "        vertical-align: middle;\n",
       "    }\n",
       "\n",
       "    .dataframe tbody tr th {\n",
       "        vertical-align: top;\n",
       "    }\n",
       "\n",
       "    .dataframe thead th {\n",
       "        text-align: right;\n",
       "    }\n",
       "</style>\n",
       "<table border=\"1\" class=\"dataframe\">\n",
       "  <thead>\n",
       "    <tr style=\"text-align: right;\">\n",
       "      <th></th>\n",
       "      <th>id</th>\n",
       "      <th>vendor_id</th>\n",
       "      <th>pickup_datetime</th>\n",
       "      <th>dropoff_datetime</th>\n",
       "      <th>passenger_count</th>\n",
       "      <th>pickup_longitude</th>\n",
       "      <th>pickup_latitude</th>\n",
       "      <th>dropoff_longitude</th>\n",
       "      <th>dropoff_latitude</th>\n",
       "      <th>store_and_fwd_flag</th>\n",
       "    </tr>\n",
       "  </thead>\n",
       "  <tbody>\n",
       "    <tr>\n",
       "      <th>0</th>\n",
       "      <td>id2793718</td>\n",
       "      <td>2</td>\n",
       "      <td>2016-06-08 07:36:19</td>\n",
       "      <td>2016-06-08 07:53:39</td>\n",
       "      <td>1</td>\n",
       "      <td>-73.9856</td>\n",
       "      <td>40.7359</td>\n",
       "      <td>-73.9803</td>\n",
       "      <td>40.7605</td>\n",
       "      <td>N</td>\n",
       "    </tr>\n",
       "    <tr>\n",
       "      <th>1</th>\n",
       "      <td>id3485529</td>\n",
       "      <td>2</td>\n",
       "      <td>2016-04-03 12:58:11</td>\n",
       "      <td>2016-04-03 13:11:58</td>\n",
       "      <td>1</td>\n",
       "      <td>-73.9784</td>\n",
       "      <td>40.7644</td>\n",
       "      <td>-73.9916</td>\n",
       "      <td>40.7499</td>\n",
       "      <td>N</td>\n",
       "    </tr>\n",
       "    <tr>\n",
       "      <th>2</th>\n",
       "      <td>id1816614</td>\n",
       "      <td>2</td>\n",
       "      <td>2016-06-05 02:49:13</td>\n",
       "      <td>2016-06-05 02:59:27</td>\n",
       "      <td>5</td>\n",
       "      <td>-73.9891</td>\n",
       "      <td>40.7444</td>\n",
       "      <td>-73.9734</td>\n",
       "      <td>40.7487</td>\n",
       "      <td>N</td>\n",
       "    </tr>\n",
       "    <tr>\n",
       "      <th>3</th>\n",
       "      <td>id1050851</td>\n",
       "      <td>2</td>\n",
       "      <td>2016-05-05 17:18:27</td>\n",
       "      <td>2016-05-05 17:32:54</td>\n",
       "      <td>2</td>\n",
       "      <td>-73.9903</td>\n",
       "      <td>40.7311</td>\n",
       "      <td>-73.9913</td>\n",
       "      <td>40.7489</td>\n",
       "      <td>N</td>\n",
       "    </tr>\n",
       "    <tr>\n",
       "      <th>4</th>\n",
       "      <td>id0140657</td>\n",
       "      <td>1</td>\n",
       "      <td>2016-05-12 17:43:38</td>\n",
       "      <td>2016-05-12 19:06:25</td>\n",
       "      <td>4</td>\n",
       "      <td>-73.7895</td>\n",
       "      <td>40.6467</td>\n",
       "      <td>-73.9871</td>\n",
       "      <td>40.7592</td>\n",
       "      <td>N</td>\n",
       "    </tr>\n",
       "  </tbody>\n",
       "</table>\n",
       "</div>"
      ],
      "text/plain": [
       "          id vendor_id      pickup_datetime     dropoff_datetime  \\\n",
       "0  id2793718         2  2016-06-08 07:36:19  2016-06-08 07:53:39   \n",
       "1  id3485529         2  2016-04-03 12:58:11  2016-04-03 13:11:58   \n",
       "2  id1816614         2  2016-06-05 02:49:13  2016-06-05 02:59:27   \n",
       "3  id1050851         2  2016-05-05 17:18:27  2016-05-05 17:32:54   \n",
       "4  id0140657         1  2016-05-12 17:43:38  2016-05-12 19:06:25   \n",
       "\n",
       "  passenger_count pickup_longitude pickup_latitude dropoff_longitude  \\\n",
       "0               1         -73.9856         40.7359          -73.9803   \n",
       "1               1         -73.9784         40.7644          -73.9916   \n",
       "2               5         -73.9891         40.7444          -73.9734   \n",
       "3               2         -73.9903         40.7311          -73.9913   \n",
       "4               4         -73.7895         40.6467          -73.9871   \n",
       "\n",
       "  dropoff_latitude store_and_fwd_flag  \n",
       "0          40.7605                  N  \n",
       "1          40.7499                  N  \n",
       "2          40.7487                  N  \n",
       "3          40.7489                  N  \n",
       "4          40.7592                  N  "
      ]
     },
     "execution_count": 6,
     "metadata": {},
     "output_type": "execute_result"
    }
   ],
   "source": [
    "data_labels = list(taxi_samples)\n",
    "data_y = {'trip_duration': taxi_samples.iloc[:,10]}\n",
    "X = pd.DataFrame(data=taxi_samples.iloc[:, :-1].values, columns=data_labels[:10])\n",
    "y = pd.DataFrame(data_y)\n",
    "X.head()"
   ]
  },
  {
   "cell_type": "code",
   "execution_count": 7,
   "metadata": {},
   "outputs": [
    {
     "data": {
      "text/html": [
       "<div>\n",
       "<style scoped>\n",
       "    .dataframe tbody tr th:only-of-type {\n",
       "        vertical-align: middle;\n",
       "    }\n",
       "\n",
       "    .dataframe tbody tr th {\n",
       "        vertical-align: top;\n",
       "    }\n",
       "\n",
       "    .dataframe thead th {\n",
       "        text-align: right;\n",
       "    }\n",
       "</style>\n",
       "<table border=\"1\" class=\"dataframe\">\n",
       "  <thead>\n",
       "    <tr style=\"text-align: right;\">\n",
       "      <th></th>\n",
       "      <th>trip_duration</th>\n",
       "    </tr>\n",
       "  </thead>\n",
       "  <tbody>\n",
       "    <tr>\n",
       "      <th>67250</th>\n",
       "      <td>1040</td>\n",
       "    </tr>\n",
       "    <tr>\n",
       "      <th>1397036</th>\n",
       "      <td>827</td>\n",
       "    </tr>\n",
       "    <tr>\n",
       "      <th>1021087</th>\n",
       "      <td>614</td>\n",
       "    </tr>\n",
       "    <tr>\n",
       "      <th>951424</th>\n",
       "      <td>867</td>\n",
       "    </tr>\n",
       "    <tr>\n",
       "      <th>707882</th>\n",
       "      <td>4967</td>\n",
       "    </tr>\n",
       "  </tbody>\n",
       "</table>\n",
       "</div>"
      ],
      "text/plain": [
       "         trip_duration\n",
       "67250             1040\n",
       "1397036            827\n",
       "1021087            614\n",
       "951424             867\n",
       "707882            4967"
      ]
     },
     "execution_count": 7,
     "metadata": {},
     "output_type": "execute_result"
    }
   ],
   "source": [
    "y.head()"
   ]
  },
  {
   "cell_type": "code",
   "execution_count": 8,
   "metadata": {},
   "outputs": [
    {
     "data": {
      "text/html": [
       "<div>\n",
       "<style scoped>\n",
       "    .dataframe tbody tr th:only-of-type {\n",
       "        vertical-align: middle;\n",
       "    }\n",
       "\n",
       "    .dataframe tbody tr th {\n",
       "        vertical-align: top;\n",
       "    }\n",
       "\n",
       "    .dataframe thead th {\n",
       "        text-align: right;\n",
       "    }\n",
       "</style>\n",
       "<table border=\"1\" class=\"dataframe\">\n",
       "  <thead>\n",
       "    <tr style=\"text-align: right;\">\n",
       "      <th></th>\n",
       "      <th>id</th>\n",
       "      <th>vendor_id</th>\n",
       "      <th>pickup_datetime</th>\n",
       "      <th>dropoff_datetime</th>\n",
       "      <th>passenger_count</th>\n",
       "      <th>pickup_longitude</th>\n",
       "      <th>pickup_latitude</th>\n",
       "      <th>dropoff_longitude</th>\n",
       "      <th>dropoff_latitude</th>\n",
       "      <th>store_and_fwd_flag</th>\n",
       "    </tr>\n",
       "  </thead>\n",
       "  <tbody>\n",
       "    <tr>\n",
       "      <th>47726</th>\n",
       "      <td>id1300757</td>\n",
       "      <td>2</td>\n",
       "      <td>2016-05-04 18:36:52</td>\n",
       "      <td>2016-05-04 19:16:56</td>\n",
       "      <td>1</td>\n",
       "      <td>-73.8709</td>\n",
       "      <td>40.7738</td>\n",
       "      <td>-73.9787</td>\n",
       "      <td>40.7625</td>\n",
       "      <td>N</td>\n",
       "    </tr>\n",
       "    <tr>\n",
       "      <th>83469</th>\n",
       "      <td>id3121281</td>\n",
       "      <td>2</td>\n",
       "      <td>2016-05-20 01:44:40</td>\n",
       "      <td>2016-05-20 01:59:37</td>\n",
       "      <td>2</td>\n",
       "      <td>-73.9932</td>\n",
       "      <td>40.6827</td>\n",
       "      <td>-73.9529</td>\n",
       "      <td>40.6525</td>\n",
       "      <td>N</td>\n",
       "    </tr>\n",
       "    <tr>\n",
       "      <th>113890</th>\n",
       "      <td>id0447166</td>\n",
       "      <td>2</td>\n",
       "      <td>2016-01-26 11:56:04</td>\n",
       "      <td>2016-01-26 12:04:18</td>\n",
       "      <td>3</td>\n",
       "      <td>-73.9475</td>\n",
       "      <td>40.7906</td>\n",
       "      <td>-73.9594</td>\n",
       "      <td>40.7829</td>\n",
       "      <td>N</td>\n",
       "    </tr>\n",
       "    <tr>\n",
       "      <th>395</th>\n",
       "      <td>id1301295</td>\n",
       "      <td>1</td>\n",
       "      <td>2016-02-19 11:08:22</td>\n",
       "      <td>2016-02-19 11:36:11</td>\n",
       "      <td>1</td>\n",
       "      <td>-74.0099</td>\n",
       "      <td>40.7211</td>\n",
       "      <td>-73.8727</td>\n",
       "      <td>40.7743</td>\n",
       "      <td>N</td>\n",
       "    </tr>\n",
       "    <tr>\n",
       "      <th>115060</th>\n",
       "      <td>id3613539</td>\n",
       "      <td>2</td>\n",
       "      <td>2016-04-25 16:55:55</td>\n",
       "      <td>2016-04-25 17:07:06</td>\n",
       "      <td>2</td>\n",
       "      <td>-74.0072</td>\n",
       "      <td>40.7054</td>\n",
       "      <td>-73.9652</td>\n",
       "      <td>40.7577</td>\n",
       "      <td>N</td>\n",
       "    </tr>\n",
       "  </tbody>\n",
       "</table>\n",
       "</div>"
      ],
      "text/plain": [
       "               id vendor_id      pickup_datetime     dropoff_datetime  \\\n",
       "47726   id1300757         2  2016-05-04 18:36:52  2016-05-04 19:16:56   \n",
       "83469   id3121281         2  2016-05-20 01:44:40  2016-05-20 01:59:37   \n",
       "113890  id0447166         2  2016-01-26 11:56:04  2016-01-26 12:04:18   \n",
       "395     id1301295         1  2016-02-19 11:08:22  2016-02-19 11:36:11   \n",
       "115060  id3613539         2  2016-04-25 16:55:55  2016-04-25 17:07:06   \n",
       "\n",
       "       passenger_count pickup_longitude pickup_latitude dropoff_longitude  \\\n",
       "47726                1         -73.8709         40.7738          -73.9787   \n",
       "83469                2         -73.9932         40.6827          -73.9529   \n",
       "113890               3         -73.9475         40.7906          -73.9594   \n",
       "395                  1         -74.0099         40.7211          -73.8727   \n",
       "115060               2         -74.0072         40.7054          -73.9652   \n",
       "\n",
       "       dropoff_latitude store_and_fwd_flag  \n",
       "47726           40.7625                  N  \n",
       "83469           40.6525                  N  \n",
       "113890          40.7829                  N  \n",
       "395             40.7743                  N  \n",
       "115060          40.7577                  N  "
      ]
     },
     "execution_count": 8,
     "metadata": {},
     "output_type": "execute_result"
    }
   ],
   "source": [
    "from sklearn.model_selection import train_test_split\n",
    "X_train, X_val, y_train, y_val = train_test_split(X, y, test_size = 0.3, random_state=42)\n",
    "X_train.head()"
   ]
  },
  {
   "cell_type": "code",
   "execution_count": null,
   "metadata": {},
   "outputs": [],
   "source": [
    "\n",
    "\n"
   ]
  },
  {
   "cell_type": "code",
   "execution_count": 9,
   "metadata": {},
   "outputs": [
    {
     "name": "stdout",
     "output_type": "stream",
     "text": [
      "102104 train + 43760 test\n"
     ]
    }
   ],
   "source": [
    "print(len(X_train), \"train +\", len(y_val), \"test\")"
   ]
  },
  {
   "cell_type": "code",
   "execution_count": 10,
   "metadata": {},
   "outputs": [],
   "source": [
    "import folium # goelogical map\n",
    "newyork_map = folium.Map(location=[40.767937,-73.982155 ], tiles='OpenStreetMap', zoom_start=12)"
   ]
  },
  {
   "cell_type": "code",
   "execution_count": 11,
   "metadata": {},
   "outputs": [
    {
     "data": {
      "text/html": [
       "<div style=\"width:100%;\"><div style=\"position:relative;width:100%;height:0;padding-bottom:60%;\"><iframe src=\"data:text/html;charset=utf-8;base64,PCFET0NUWVBFIGh0bWw+CjxoZWFkPiAgICAKICAgIDxtZXRhIGh0dHAtZXF1aXY9ImNvbnRlbnQtdHlwZSIgY29udGVudD0idGV4dC9odG1sOyBjaGFyc2V0PVVURi04IiAvPgogICAgPHNjcmlwdD5MX1BSRUZFUl9DQU5WQVM9ZmFsc2U7IExfTk9fVE9VQ0g9ZmFsc2U7IExfRElTQUJMRV8zRD1mYWxzZTs8L3NjcmlwdD4KICAgIDxzY3JpcHQgc3JjPSJodHRwczovL2Nkbi5qc2RlbGl2ci5uZXQvbnBtL2xlYWZsZXRAMS4yLjAvZGlzdC9sZWFmbGV0LmpzIj48L3NjcmlwdD4KICAgIDxzY3JpcHQgc3JjPSJodHRwczovL2FqYXguZ29vZ2xlYXBpcy5jb20vYWpheC9saWJzL2pxdWVyeS8xLjExLjEvanF1ZXJ5Lm1pbi5qcyI+PC9zY3JpcHQ+CiAgICA8c2NyaXB0IHNyYz0iaHR0cHM6Ly9tYXhjZG4uYm9vdHN0cmFwY2RuLmNvbS9ib290c3RyYXAvMy4yLjAvanMvYm9vdHN0cmFwLm1pbi5qcyI+PC9zY3JpcHQ+CiAgICA8c2NyaXB0IHNyYz0iaHR0cHM6Ly9jZG5qcy5jbG91ZGZsYXJlLmNvbS9hamF4L2xpYnMvTGVhZmxldC5hd2Vzb21lLW1hcmtlcnMvMi4wLjIvbGVhZmxldC5hd2Vzb21lLW1hcmtlcnMuanMiPjwvc2NyaXB0PgogICAgPGxpbmsgcmVsPSJzdHlsZXNoZWV0IiBocmVmPSJodHRwczovL2Nkbi5qc2RlbGl2ci5uZXQvbnBtL2xlYWZsZXRAMS4yLjAvZGlzdC9sZWFmbGV0LmNzcyIvPgogICAgPGxpbmsgcmVsPSJzdHlsZXNoZWV0IiBocmVmPSJodHRwczovL21heGNkbi5ib290c3RyYXBjZG4uY29tL2Jvb3RzdHJhcC8zLjIuMC9jc3MvYm9vdHN0cmFwLm1pbi5jc3MiLz4KICAgIDxsaW5rIHJlbD0ic3R5bGVzaGVldCIgaHJlZj0iaHR0cHM6Ly9tYXhjZG4uYm9vdHN0cmFwY2RuLmNvbS9ib290c3RyYXAvMy4yLjAvY3NzL2Jvb3RzdHJhcC10aGVtZS5taW4uY3NzIi8+CiAgICA8bGluayByZWw9InN0eWxlc2hlZXQiIGhyZWY9Imh0dHBzOi8vbWF4Y2RuLmJvb3RzdHJhcGNkbi5jb20vZm9udC1hd2Vzb21lLzQuNi4zL2Nzcy9mb250LWF3ZXNvbWUubWluLmNzcyIvPgogICAgPGxpbmsgcmVsPSJzdHlsZXNoZWV0IiBocmVmPSJodHRwczovL2NkbmpzLmNsb3VkZmxhcmUuY29tL2FqYXgvbGlicy9MZWFmbGV0LmF3ZXNvbWUtbWFya2Vycy8yLjAuMi9sZWFmbGV0LmF3ZXNvbWUtbWFya2Vycy5jc3MiLz4KICAgIDxsaW5rIHJlbD0ic3R5bGVzaGVldCIgaHJlZj0iaHR0cHM6Ly9yYXdnaXQuY29tL3B5dGhvbi12aXN1YWxpemF0aW9uL2ZvbGl1bS9tYXN0ZXIvZm9saXVtL3RlbXBsYXRlcy9sZWFmbGV0LmF3ZXNvbWUucm90YXRlLmNzcyIvPgogICAgPHN0eWxlPmh0bWwsIGJvZHkge3dpZHRoOiAxMDAlO2hlaWdodDogMTAwJTttYXJnaW46IDA7cGFkZGluZzogMDt9PC9zdHlsZT4KICAgIDxzdHlsZT4jbWFwIHtwb3NpdGlvbjphYnNvbHV0ZTt0b3A6MDtib3R0b206MDtyaWdodDowO2xlZnQ6MDt9PC9zdHlsZT4KICAgIAogICAgPHN0eWxlPiNtYXBfMWViNDE2ZGQ4NjFkNDRhMWI1N2EzZmQ1ZjRmY2FiN2UgewogICAgICAgIHBvc2l0aW9uOiByZWxhdGl2ZTsKICAgICAgICB3aWR0aDogMTAwLjAlOwogICAgICAgIGhlaWdodDogMTAwLjAlOwogICAgICAgIGxlZnQ6IDAuMCU7CiAgICAgICAgdG9wOiAwLjAlOwogICAgICAgIH0KICAgIDwvc3R5bGU+CjwvaGVhZD4KPGJvZHk+ICAgIAogICAgCiAgICA8ZGl2IGNsYXNzPSJmb2xpdW0tbWFwIiBpZD0ibWFwXzFlYjQxNmRkODYxZDQ0YTFiNTdhM2ZkNWY0ZmNhYjdlIiA+PC9kaXY+CjwvYm9keT4KPHNjcmlwdD4gICAgCiAgICAKICAgIAogICAgICAgIHZhciBib3VuZHMgPSBudWxsOwogICAgCgogICAgdmFyIG1hcF8xZWI0MTZkZDg2MWQ0NGExYjU3YTNmZDVmNGZjYWI3ZSA9IEwubWFwKAogICAgICAgICdtYXBfMWViNDE2ZGQ4NjFkNDRhMWI1N2EzZmQ1ZjRmY2FiN2UnLCB7CiAgICAgICAgY2VudGVyOiBbNDAuNzY3OTM3LCAtNzMuOTgyMTU1XSwKICAgICAgICB6b29tOiAxMiwKICAgICAgICBtYXhCb3VuZHM6IGJvdW5kcywKICAgICAgICBsYXllcnM6IFtdLAogICAgICAgIHdvcmxkQ29weUp1bXA6IGZhbHNlLAogICAgICAgIGNyczogTC5DUlMuRVBTRzM4NTcsCiAgICAgICAgem9vbUNvbnRyb2w6IHRydWUsCiAgICAgICAgfSk7CgogICAgCiAgICAKICAgIHZhciB0aWxlX2xheWVyX2U2MThjNjBiYzgyZTRjNjg5YjhlNmZmM2Q5NTIxYzJkID0gTC50aWxlTGF5ZXIoCiAgICAgICAgJ2h0dHBzOi8ve3N9LnRpbGUub3BlbnN0cmVldG1hcC5vcmcve3p9L3t4fS97eX0ucG5nJywKICAgICAgICB7CiAgICAgICAgImF0dHJpYnV0aW9uIjogbnVsbCwKICAgICAgICAiZGV0ZWN0UmV0aW5hIjogZmFsc2UsCiAgICAgICAgIm1heE5hdGl2ZVpvb20iOiAxOCwKICAgICAgICAibWF4Wm9vbSI6IDE4LAogICAgICAgICJtaW5ab29tIjogMCwKICAgICAgICAibm9XcmFwIjogZmFsc2UsCiAgICAgICAgInN1YmRvbWFpbnMiOiAiYWJjIgp9KS5hZGRUbyhtYXBfMWViNDE2ZGQ4NjFkNDRhMWI1N2EzZmQ1ZjRmY2FiN2UpOwogICAgCiAgICAgICAgICAgIHZhciBjaXJjbGVfbWFya2VyX2UwY2QxMmEwOTc0YjRiMjk4MDc4ZDAyNTNhNzQ0NDIyID0gTC5jaXJjbGVNYXJrZXIoCiAgICAgICAgICAgICAgICBbNDAuNzczNzYxNzQ5MjY3NTgsIC03My44NzA5MDMwMTUxMzY3Ml0sCiAgICAgICAgICAgICAgICB7CiAgImJ1YmJsaW5nTW91c2VFdmVudHMiOiB0cnVlLAogICJjb2xvciI6ICJibHVlIiwKICAiZGFzaEFycmF5IjogbnVsbCwKICAiZGFzaE9mZnNldCI6IG51bGwsCiAgImZpbGwiOiB0cnVlLAogICJmaWxsQ29sb3IiOiAiI0ZEOEE2QyIsCiAgImZpbGxPcGFjaXR5IjogMC4yLAogICJmaWxsUnVsZSI6ICJldmVub2RkIiwKICAibGluZUNhcCI6ICJyb3VuZCIsCiAgImxpbmVKb2luIjogInJvdW5kIiwKICAib3BhY2l0eSI6IDEuMCwKICAicmFkaXVzIjogMywKICAic3Ryb2tlIjogdHJ1ZSwKICAid2VpZ2h0IjogMwp9CiAgICAgICAgICAgICAgICApCiAgICAgICAgICAgICAgICAuYWRkVG8obWFwXzFlYjQxNmRkODYxZDQ0YTFiNTdhM2ZkNWY0ZmNhYjdlKTsKICAgICAgICAgICAgCiAgICAKICAgICAgICAgICAgdmFyIHBvcHVwX2E4ZDBiZmFjNjU1NDQzMWFiNmIyYWZiYjU1NWU0MTJjID0gTC5wb3B1cCh7bWF4V2lkdGg6ICczMDAnCiAgICAgICAgICAgIAogICAgICAgICAgICB9KTsKCiAgICAgICAgICAgIAogICAgICAgICAgICAgICAgdmFyIGh0bWxfMTEzZmJhNDMzY2JiNGQyNzg3NjdhZTc0Zjc2ODQ3OTUgPSAkKCc8ZGl2IGlkPSJodG1sXzExM2ZiYTQzM2NiYjRkMjc4NzY3YWU3NGY3Njg0Nzk1IiBzdHlsZT0id2lkdGg6IDEwMC4wJTsgaGVpZ2h0OiAxMDAuMCU7Ij40MC43NzM3NjE3NDkyNjc1OCwtNzMuODcwOTAzMDE1MTM2NzI8L2Rpdj4nKVswXTsKICAgICAgICAgICAgICAgIHBvcHVwX2E4ZDBiZmFjNjU1NDQzMWFiNmIyYWZiYjU1NWU0MTJjLnNldENvbnRlbnQoaHRtbF8xMTNmYmE0MzNjYmI0ZDI3ODc2N2FlNzRmNzY4NDc5NSk7CiAgICAgICAgICAgIAoKICAgICAgICAgICAgY2lyY2xlX21hcmtlcl9lMGNkMTJhMDk3NGI0YjI5ODA3OGQwMjUzYTc0NDQyMi5iaW5kUG9wdXAocG9wdXBfYThkMGJmYWM2NTU0NDMxYWI2YjJhZmJiNTU1ZTQxMmMpCiAgICAgICAgICAgIDsKCiAgICAgICAgICAgIAogICAgICAgIAogICAgCiAgICAgICAgICAgIHZhciBjaXJjbGVfbWFya2VyXzgzNmY5NzRlZjFiYTRiMGJiMWFiZTM3NjM0YjE0YzljID0gTC5jaXJjbGVNYXJrZXIoCiAgICAgICAgICAgICAgICBbNDAuNzYyNDU4ODAxMjY5NTMsIC03My45Nzg2NjA1ODM0OTYxXSwKICAgICAgICAgICAgICAgIHsKICAiYnViYmxpbmdNb3VzZUV2ZW50cyI6IHRydWUsCiAgImNvbG9yIjogInJlZCIsCiAgImRhc2hBcnJheSI6IG51bGwsCiAgImRhc2hPZmZzZXQiOiBudWxsLAogICJmaWxsIjogdHJ1ZSwKICAiZmlsbENvbG9yIjogIiNGRDhBNkMiLAogICJmaWxsT3BhY2l0eSI6IDAuMiwKICAiZmlsbFJ1bGUiOiAiZXZlbm9kZCIsCiAgImxpbmVDYXAiOiAicm91bmQiLAogICJsaW5lSm9pbiI6ICJyb3VuZCIsCiAgIm9wYWNpdHkiOiAxLjAsCiAgInJhZGl1cyI6IDMsCiAgInN0cm9rZSI6IHRydWUsCiAgIndlaWdodCI6IDMKfQogICAgICAgICAgICAgICAgKQogICAgICAgICAgICAgICAgLmFkZFRvKG1hcF8xZWI0MTZkZDg2MWQ0NGExYjU3YTNmZDVmNGZjYWI3ZSk7CiAgICAgICAgICAgIAogICAgCiAgICAgICAgICAgIHZhciBwb3B1cF9iMDI3ZjVjMDZjOTA0NDE0YTFkMjgzZjFkNjkzMGYxOCA9IEwucG9wdXAoe21heFdpZHRoOiAnMzAwJwogICAgICAgICAgICAKICAgICAgICAgICAgfSk7CgogICAgICAgICAgICAKICAgICAgICAgICAgICAgIHZhciBodG1sX2ViZTY1Mjc1NjJhOTQ5YjE5ZGEzYjRjNGJmOGQ3YjlmID0gJCgnPGRpdiBpZD0iaHRtbF9lYmU2NTI3NTYyYTk0OWIxOWRhM2I0YzRiZjhkN2I5ZiIgc3R5bGU9IndpZHRoOiAxMDAuMCU7IGhlaWdodDogMTAwLjAlOyI+NDAuNzYyNDU4ODAxMjY5NTMsLTczLjk3ODY2MDU4MzQ5NjE8L2Rpdj4nKVswXTsKICAgICAgICAgICAgICAgIHBvcHVwX2IwMjdmNWMwNmM5MDQ0MTRhMWQyODNmMWQ2OTMwZjE4LnNldENvbnRlbnQoaHRtbF9lYmU2NTI3NTYyYTk0OWIxOWRhM2I0YzRiZjhkN2I5Zik7CiAgICAgICAgICAgIAoKICAgICAgICAgICAgY2lyY2xlX21hcmtlcl84MzZmOTc0ZWYxYmE0YjBiYjFhYmUzNzYzNGIxNGM5Yy5iaW5kUG9wdXAocG9wdXBfYjAyN2Y1YzA2YzkwNDQxNGExZDI4M2YxZDY5MzBmMTgpCiAgICAgICAgICAgIDsKCiAgICAgICAgICAgIAogICAgICAgIAogICAgCiAgICAgICAgICAgICAgICB2YXIgcG9seV9saW5lXzFiMzc2NTUwYmNjOTQwNGU5MDNkZGQ1MjFjYWU2M2UxID0gTC5wb2x5bGluZSgKICAgICAgICAgICAgICAgICAgICBbWzQwLjc3Mzc2MTc0OTI2NzU4LCAtNzMuODcwOTAzMDE1MTM2NzJdLCBbNDAuNzYyNDU4ODAxMjY5NTMsIC03My45Nzg2NjA1ODM0OTYxXV0sCiAgICAgICAgICAgICAgICAgICAgewogICJidWJibGluZ01vdXNlRXZlbnRzIjogdHJ1ZSwKICAiY29sb3IiOiAiZ3JlZW4iLAogICJkYXNoQXJyYXkiOiBudWxsLAogICJkYXNoT2Zmc2V0IjogbnVsbCwKICAiZmlsbCI6IGZhbHNlLAogICJmaWxsQ29sb3IiOiAiZ3JlZW4iLAogICJmaWxsT3BhY2l0eSI6IDAuMiwKICAiZmlsbFJ1bGUiOiAiZXZlbm9kZCIsCiAgImxpbmVDYXAiOiAicm91bmQiLAogICJsaW5lSm9pbiI6ICJyb3VuZCIsCiAgIm5vQ2xpcCI6IGZhbHNlLAogICJvcGFjaXR5IjogMS4wLAogICJzbW9vdGhGYWN0b3IiOiAxLjAsCiAgInN0cm9rZSI6IHRydWUsCiAgIndlaWdodCI6IDMKfQogICAgICAgICAgICAgICAgICAgICkKICAgICAgICAgICAgICAgICAgICAuYWRkVG8obWFwXzFlYjQxNmRkODYxZDQ0YTFiNTdhM2ZkNWY0ZmNhYjdlKTsKICAgICAgICAgICAgCiAgICAKICAgICAgICAgICAgdmFyIGNpcmNsZV9tYXJrZXJfYmJlODRmODkwYmQ2NDBjZmE0MGU3NDBiMTE2YzhiYzcgPSBMLmNpcmNsZU1hcmtlcigKICAgICAgICAgICAgICAgIFs0MC42ODI2NTE1MTk3NzUzOSwgLTczLjk5MzIwOTgzODg2NzE5XSwKICAgICAgICAgICAgICAgIHsKICAiYnViYmxpbmdNb3VzZUV2ZW50cyI6IHRydWUsCiAgImNvbG9yIjogImJsdWUiLAogICJkYXNoQXJyYXkiOiBudWxsLAogICJkYXNoT2Zmc2V0IjogbnVsbCwKICAiZmlsbCI6IHRydWUsCiAgImZpbGxDb2xvciI6ICIjRkQ4QTZDIiwKICAiZmlsbE9wYWNpdHkiOiAwLjIsCiAgImZpbGxSdWxlIjogImV2ZW5vZGQiLAogICJsaW5lQ2FwIjogInJvdW5kIiwKICAibGluZUpvaW4iOiAicm91bmQiLAogICJvcGFjaXR5IjogMS4wLAogICJyYWRpdXMiOiAzLAogICJzdHJva2UiOiB0cnVlLAogICJ3ZWlnaHQiOiAzCn0KICAgICAgICAgICAgICAgICkKICAgICAgICAgICAgICAgIC5hZGRUbyhtYXBfMWViNDE2ZGQ4NjFkNDRhMWI1N2EzZmQ1ZjRmY2FiN2UpOwogICAgICAgICAgICAKICAgIAogICAgICAgICAgICB2YXIgcG9wdXBfZWExODVmZDcwYTRmNDRlZGJlMTJiNTVlMzc1M2NkNDkgPSBMLnBvcHVwKHttYXhXaWR0aDogJzMwMCcKICAgICAgICAgICAgCiAgICAgICAgICAgIH0pOwoKICAgICAgICAgICAgCiAgICAgICAgICAgICAgICB2YXIgaHRtbF80NjRkZGZhYjAxNmQ0MzJkYmNjNWM1N2UzMzhiYTQ2MyA9ICQoJzxkaXYgaWQ9Imh0bWxfNDY0ZGRmYWIwMTZkNDMyZGJjYzVjNTdlMzM4YmE0NjMiIHN0eWxlPSJ3aWR0aDogMTAwLjAlOyBoZWlnaHQ6IDEwMC4wJTsiPjQwLjY4MjY1MTUxOTc3NTM5LC03My45OTMyMDk4Mzg4NjcxOTwvZGl2PicpWzBdOwogICAgICAgICAgICAgICAgcG9wdXBfZWExODVmZDcwYTRmNDRlZGJlMTJiNTVlMzc1M2NkNDkuc2V0Q29udGVudChodG1sXzQ2NGRkZmFiMDE2ZDQzMmRiY2M1YzU3ZTMzOGJhNDYzKTsKICAgICAgICAgICAgCgogICAgICAgICAgICBjaXJjbGVfbWFya2VyX2JiZTg0Zjg5MGJkNjQwY2ZhNDBlNzQwYjExNmM4YmM3LmJpbmRQb3B1cChwb3B1cF9lYTE4NWZkNzBhNGY0NGVkYmUxMmI1NWUzNzUzY2Q0OSkKICAgICAgICAgICAgOwoKICAgICAgICAgICAgCiAgICAgICAgCiAgICAKICAgICAgICAgICAgdmFyIGNpcmNsZV9tYXJrZXJfMWFlNzJiN2IyM2JkNGI5NGJhZmNlN2U1MDY5YzE5NTAgPSBMLmNpcmNsZU1hcmtlcigKICAgICAgICAgICAgICAgIFs0MC42NTI0NTA1NjE1MjM0NCwgLTczLjk1Mjg3MzIyOTk4MDQ4XSwKICAgICAgICAgICAgICAgIHsKICAiYnViYmxpbmdNb3VzZUV2ZW50cyI6IHRydWUsCiAgImNvbG9yIjogInJlZCIsCiAgImRhc2hBcnJheSI6IG51bGwsCiAgImRhc2hPZmZzZXQiOiBudWxsLAogICJmaWxsIjogdHJ1ZSwKICAiZmlsbENvbG9yIjogIiNGRDhBNkMiLAogICJmaWxsT3BhY2l0eSI6IDAuMiwKICAiZmlsbFJ1bGUiOiAiZXZlbm9kZCIsCiAgImxpbmVDYXAiOiAicm91bmQiLAogICJsaW5lSm9pbiI6ICJyb3VuZCIsCiAgIm9wYWNpdHkiOiAxLjAsCiAgInJhZGl1cyI6IDMsCiAgInN0cm9rZSI6IHRydWUsCiAgIndlaWdodCI6IDMKfQogICAgICAgICAgICAgICAgKQogICAgICAgICAgICAgICAgLmFkZFRvKG1hcF8xZWI0MTZkZDg2MWQ0NGExYjU3YTNmZDVmNGZjYWI3ZSk7CiAgICAgICAgICAgIAogICAgCiAgICAgICAgICAgIHZhciBwb3B1cF8wMmVmYTViMGI4Nzg0OTE5YmI2NmM0OTQwYzc3OTA3ZiA9IEwucG9wdXAoe21heFdpZHRoOiAnMzAwJwogICAgICAgICAgICAKICAgICAgICAgICAgfSk7CgogICAgICAgICAgICAKICAgICAgICAgICAgICAgIHZhciBodG1sX2FmNTQ2OTllYTE0MzQxY2I5YmY4N2Y1NjE1NzBmYzE2ID0gJCgnPGRpdiBpZD0iaHRtbF9hZjU0Njk5ZWExNDM0MWNiOWJmODdmNTYxNTcwZmMxNiIgc3R5bGU9IndpZHRoOiAxMDAuMCU7IGhlaWdodDogMTAwLjAlOyI+NDAuNjUyNDUwNTYxNTIzNDQsLTczLjk1Mjg3MzIyOTk4MDQ4PC9kaXY+JylbMF07CiAgICAgICAgICAgICAgICBwb3B1cF8wMmVmYTViMGI4Nzg0OTE5YmI2NmM0OTQwYzc3OTA3Zi5zZXRDb250ZW50KGh0bWxfYWY1NDY5OWVhMTQzNDFjYjliZjg3ZjU2MTU3MGZjMTYpOwogICAgICAgICAgICAKCiAgICAgICAgICAgIGNpcmNsZV9tYXJrZXJfMWFlNzJiN2IyM2JkNGI5NGJhZmNlN2U1MDY5YzE5NTAuYmluZFBvcHVwKHBvcHVwXzAyZWZhNWIwYjg3ODQ5MTliYjY2YzQ5NDBjNzc5MDdmKQogICAgICAgICAgICA7CgogICAgICAgICAgICAKICAgICAgICAKICAgIAogICAgICAgICAgICAgICAgdmFyIHBvbHlfbGluZV9jNWUwYzgwMTVmOTU0NWQyODYwNmYyNjI5MDY2ZDNhMyA9IEwucG9seWxpbmUoCiAgICAgICAgICAgICAgICAgICAgW1s0MC42ODI2NTE1MTk3NzUzOSwgLTczLjk5MzIwOTgzODg2NzE5XSwgWzQwLjY1MjQ1MDU2MTUyMzQ0LCAtNzMuOTUyODczMjI5OTgwNDhdXSwKICAgICAgICAgICAgICAgICAgICB7CiAgImJ1YmJsaW5nTW91c2VFdmVudHMiOiB0cnVlLAogICJjb2xvciI6ICJncmVlbiIsCiAgImRhc2hBcnJheSI6IG51bGwsCiAgImRhc2hPZmZzZXQiOiBudWxsLAogICJmaWxsIjogZmFsc2UsCiAgImZpbGxDb2xvciI6ICJncmVlbiIsCiAgImZpbGxPcGFjaXR5IjogMC4yLAogICJmaWxsUnVsZSI6ICJldmVub2RkIiwKICAibGluZUNhcCI6ICJyb3VuZCIsCiAgImxpbmVKb2luIjogInJvdW5kIiwKICAibm9DbGlwIjogZmFsc2UsCiAgIm9wYWNpdHkiOiAxLjAsCiAgInNtb290aEZhY3RvciI6IDEuMCwKICAic3Ryb2tlIjogdHJ1ZSwKICAid2VpZ2h0IjogMwp9CiAgICAgICAgICAgICAgICAgICAgKQogICAgICAgICAgICAgICAgICAgIC5hZGRUbyhtYXBfMWViNDE2ZGQ4NjFkNDRhMWI1N2EzZmQ1ZjRmY2FiN2UpOwogICAgICAgICAgICAKICAgIAogICAgICAgICAgICB2YXIgY2lyY2xlX21hcmtlcl85OTk5NWEzMzQxZmU0YzY3OTkwZGY4NzY4MmY1Zjc0MyA9IEwuY2lyY2xlTWFya2VyKAogICAgICAgICAgICAgICAgWzQwLjc5MDYzMDM0MDU3NjE3LCAtNzMuOTQ3NTE3Mzk1MDE5NTVdLAogICAgICAgICAgICAgICAgewogICJidWJibGluZ01vdXNlRXZlbnRzIjogdHJ1ZSwKICAiY29sb3IiOiAiYmx1ZSIsCiAgImRhc2hBcnJheSI6IG51bGwsCiAgImRhc2hPZmZzZXQiOiBudWxsLAogICJmaWxsIjogdHJ1ZSwKICAiZmlsbENvbG9yIjogIiNGRDhBNkMiLAogICJmaWxsT3BhY2l0eSI6IDAuMiwKICAiZmlsbFJ1bGUiOiAiZXZlbm9kZCIsCiAgImxpbmVDYXAiOiAicm91bmQiLAogICJsaW5lSm9pbiI6ICJyb3VuZCIsCiAgIm9wYWNpdHkiOiAxLjAsCiAgInJhZGl1cyI6IDMsCiAgInN0cm9rZSI6IHRydWUsCiAgIndlaWdodCI6IDMKfQogICAgICAgICAgICAgICAgKQogICAgICAgICAgICAgICAgLmFkZFRvKG1hcF8xZWI0MTZkZDg2MWQ0NGExYjU3YTNmZDVmNGZjYWI3ZSk7CiAgICAgICAgICAgIAogICAgCiAgICAgICAgICAgIHZhciBwb3B1cF85N2ZmMWFlZDViYTU0NWI5OTA0OWVkNmJiNTQxMGMwZSA9IEwucG9wdXAoe21heFdpZHRoOiAnMzAwJwogICAgICAgICAgICAKICAgICAgICAgICAgfSk7CgogICAgICAgICAgICAKICAgICAgICAgICAgICAgIHZhciBodG1sXzc0Y2Y3ZTZkODZkZjQ3NDg4ZWNlMTNhODIwZTBmYzI5ID0gJCgnPGRpdiBpZD0iaHRtbF83NGNmN2U2ZDg2ZGY0NzQ4OGVjZTEzYTgyMGUwZmMyOSIgc3R5bGU9IndpZHRoOiAxMDAuMCU7IGhlaWdodDogMTAwLjAlOyI+NDAuNzkwNjMwMzQwNTc2MTcsLTczLjk0NzUxNzM5NTAxOTU1PC9kaXY+JylbMF07CiAgICAgICAgICAgICAgICBwb3B1cF85N2ZmMWFlZDViYTU0NWI5OTA0OWVkNmJiNTQxMGMwZS5zZXRDb250ZW50KGh0bWxfNzRjZjdlNmQ4NmRmNDc0ODhlY2UxM2E4MjBlMGZjMjkpOwogICAgICAgICAgICAKCiAgICAgICAgICAgIGNpcmNsZV9tYXJrZXJfOTk5OTVhMzM0MWZlNGM2Nzk5MGRmODc2ODJmNWY3NDMuYmluZFBvcHVwKHBvcHVwXzk3ZmYxYWVkNWJhNTQ1Yjk5MDQ5ZWQ2YmI1NDEwYzBlKQogICAgICAgICAgICA7CgogICAgICAgICAgICAKICAgICAgICAKICAgIAogICAgICAgICAgICB2YXIgY2lyY2xlX21hcmtlcl9hOGMyZjA0NDJkZTU0ZWFkYjJkOWM0YzVmZjE2ZjNkZSA9IEwuY2lyY2xlTWFya2VyKAogICAgICAgICAgICAgICAgWzQwLjc4MjkyODQ2Njc5Njg4LCAtNzMuOTU5NDE5MjUwNDg4M10sCiAgICAgICAgICAgICAgICB7CiAgImJ1YmJsaW5nTW91c2VFdmVudHMiOiB0cnVlLAogICJjb2xvciI6ICJyZWQiLAogICJkYXNoQXJyYXkiOiBudWxsLAogICJkYXNoT2Zmc2V0IjogbnVsbCwKICAiZmlsbCI6IHRydWUsCiAgImZpbGxDb2xvciI6ICIjRkQ4QTZDIiwKICAiZmlsbE9wYWNpdHkiOiAwLjIsCiAgImZpbGxSdWxlIjogImV2ZW5vZGQiLAogICJsaW5lQ2FwIjogInJvdW5kIiwKICAibGluZUpvaW4iOiAicm91bmQiLAogICJvcGFjaXR5IjogMS4wLAogICJyYWRpdXMiOiAzLAogICJzdHJva2UiOiB0cnVlLAogICJ3ZWlnaHQiOiAzCn0KICAgICAgICAgICAgICAgICkKICAgICAgICAgICAgICAgIC5hZGRUbyhtYXBfMWViNDE2ZGQ4NjFkNDRhMWI1N2EzZmQ1ZjRmY2FiN2UpOwogICAgICAgICAgICAKICAgIAogICAgICAgICAgICB2YXIgcG9wdXBfZDU2ZmYxMGJlNzBkNDdiZWJjNDRmYTE3ZDZhN2M1ZTggPSBMLnBvcHVwKHttYXhXaWR0aDogJzMwMCcKICAgICAgICAgICAgCiAgICAgICAgICAgIH0pOwoKICAgICAgICAgICAgCiAgICAgICAgICAgICAgICB2YXIgaHRtbF83OTQ2NTMzMGYxYTk0NzUxOTA1OGI0MDY0MGRlNDE1ZCA9ICQoJzxkaXYgaWQ9Imh0bWxfNzk0NjUzMzBmMWE5NDc1MTkwNThiNDA2NDBkZTQxNWQiIHN0eWxlPSJ3aWR0aDogMTAwLjAlOyBoZWlnaHQ6IDEwMC4wJTsiPjQwLjc4MjkyODQ2Njc5Njg4LC03My45NTk0MTkyNTA0ODgzPC9kaXY+JylbMF07CiAgICAgICAgICAgICAgICBwb3B1cF9kNTZmZjEwYmU3MGQ0N2JlYmM0NGZhMTdkNmE3YzVlOC5zZXRDb250ZW50KGh0bWxfNzk0NjUzMzBmMWE5NDc1MTkwNThiNDA2NDBkZTQxNWQpOwogICAgICAgICAgICAKCiAgICAgICAgICAgIGNpcmNsZV9tYXJrZXJfYThjMmYwNDQyZGU1NGVhZGIyZDljNGM1ZmYxNmYzZGUuYmluZFBvcHVwKHBvcHVwX2Q1NmZmMTBiZTcwZDQ3YmViYzQ0ZmExN2Q2YTdjNWU4KQogICAgICAgICAgICA7CgogICAgICAgICAgICAKICAgICAgICAKICAgIAogICAgICAgICAgICAgICAgdmFyIHBvbHlfbGluZV9kNzI2ZjU3M2RlZmE0YTY4ODg2NmZmZTRlMWQyYTlkMCA9IEwucG9seWxpbmUoCiAgICAgICAgICAgICAgICAgICAgW1s0MC43OTA2MzAzNDA1NzYxNywgLTczLjk0NzUxNzM5NTAxOTU1XSwgWzQwLjc4MjkyODQ2Njc5Njg4LCAtNzMuOTU5NDE5MjUwNDg4M11dLAogICAgICAgICAgICAgICAgICAgIHsKICAiYnViYmxpbmdNb3VzZUV2ZW50cyI6IHRydWUsCiAgImNvbG9yIjogImdyZWVuIiwKICAiZGFzaEFycmF5IjogbnVsbCwKICAiZGFzaE9mZnNldCI6IG51bGwsCiAgImZpbGwiOiBmYWxzZSwKICAiZmlsbENvbG9yIjogImdyZWVuIiwKICAiZmlsbE9wYWNpdHkiOiAwLjIsCiAgImZpbGxSdWxlIjogImV2ZW5vZGQiLAogICJsaW5lQ2FwIjogInJvdW5kIiwKICAibGluZUpvaW4iOiAicm91bmQiLAogICJub0NsaXAiOiBmYWxzZSwKICAib3BhY2l0eSI6IDEuMCwKICAic21vb3RoRmFjdG9yIjogMS4wLAogICJzdHJva2UiOiB0cnVlLAogICJ3ZWlnaHQiOiAzCn0KICAgICAgICAgICAgICAgICAgICApCiAgICAgICAgICAgICAgICAgICAgLmFkZFRvKG1hcF8xZWI0MTZkZDg2MWQ0NGExYjU3YTNmZDVmNGZjYWI3ZSk7CiAgICAgICAgICAgIAogICAgCiAgICAgICAgICAgIHZhciBjaXJjbGVfbWFya2VyXzg4MGIzMjZiNjcyYjQwYzVhOGIyZWQzZjgxYjY0NGU0ID0gTC5jaXJjbGVNYXJrZXIoCiAgICAgICAgICAgICAgICBbNDAuNzIxMDgwNzgwMDI5MywgLTc0LjAwOTk0ODczMDQ2ODc1XSwKICAgICAgICAgICAgICAgIHsKICAiYnViYmxpbmdNb3VzZUV2ZW50cyI6IHRydWUsCiAgImNvbG9yIjogImJsdWUiLAogICJkYXNoQXJyYXkiOiBudWxsLAogICJkYXNoT2Zmc2V0IjogbnVsbCwKICAiZmlsbCI6IHRydWUsCiAgImZpbGxDb2xvciI6ICIjRkQ4QTZDIiwKICAiZmlsbE9wYWNpdHkiOiAwLjIsCiAgImZpbGxSdWxlIjogImV2ZW5vZGQiLAogICJsaW5lQ2FwIjogInJvdW5kIiwKICAibGluZUpvaW4iOiAicm91bmQiLAogICJvcGFjaXR5IjogMS4wLAogICJyYWRpdXMiOiAzLAogICJzdHJva2UiOiB0cnVlLAogICJ3ZWlnaHQiOiAzCn0KICAgICAgICAgICAgICAgICkKICAgICAgICAgICAgICAgIC5hZGRUbyhtYXBfMWViNDE2ZGQ4NjFkNDRhMWI1N2EzZmQ1ZjRmY2FiN2UpOwogICAgICAgICAgICAKICAgIAogICAgICAgICAgICB2YXIgcG9wdXBfNWFiZWZhODJhN2Q1NDgxNTg4NGZlYzVlM2JhMDg4NDIgPSBMLnBvcHVwKHttYXhXaWR0aDogJzMwMCcKICAgICAgICAgICAgCiAgICAgICAgICAgIH0pOwoKICAgICAgICAgICAgCiAgICAgICAgICAgICAgICB2YXIgaHRtbF9kYWZlYjBkNTBjNDg0NWM4ODU1NzY2N2VlN2M4MGMwZCA9ICQoJzxkaXYgaWQ9Imh0bWxfZGFmZWIwZDUwYzQ4NDVjODg1NTc2NjdlZTdjODBjMGQiIHN0eWxlPSJ3aWR0aDogMTAwLjAlOyBoZWlnaHQ6IDEwMC4wJTsiPjQwLjcyMTA4MDc4MDAyOTMsLTc0LjAwOTk0ODczMDQ2ODc1PC9kaXY+JylbMF07CiAgICAgICAgICAgICAgICBwb3B1cF81YWJlZmE4MmE3ZDU0ODE1ODg0ZmVjNWUzYmEwODg0Mi5zZXRDb250ZW50KGh0bWxfZGFmZWIwZDUwYzQ4NDVjODg1NTc2NjdlZTdjODBjMGQpOwogICAgICAgICAgICAKCiAgICAgICAgICAgIGNpcmNsZV9tYXJrZXJfODgwYjMyNmI2NzJiNDBjNWE4YjJlZDNmODFiNjQ0ZTQuYmluZFBvcHVwKHBvcHVwXzVhYmVmYTgyYTdkNTQ4MTU4ODRmZWM1ZTNiYTA4ODQyKQogICAgICAgICAgICA7CgogICAgICAgICAgICAKICAgICAgICAKICAgIAogICAgICAgICAgICB2YXIgY2lyY2xlX21hcmtlcl82NmE0MTRiMWQ0M2Y0MGMxOWRiM2M2OGUyZGM1N2MxZCA9IEwuY2lyY2xlTWFya2VyKAogICAgICAgICAgICAgICAgWzQwLjc3NDMzMzk1Mzg1NzQyLCAtNzMuODcyNzExMTgxNjQwNjJdLAogICAgICAgICAgICAgICAgewogICJidWJibGluZ01vdXNlRXZlbnRzIjogdHJ1ZSwKICAiY29sb3IiOiAicmVkIiwKICAiZGFzaEFycmF5IjogbnVsbCwKICAiZGFzaE9mZnNldCI6IG51bGwsCiAgImZpbGwiOiB0cnVlLAogICJmaWxsQ29sb3IiOiAiI0ZEOEE2QyIsCiAgImZpbGxPcGFjaXR5IjogMC4yLAogICJmaWxsUnVsZSI6ICJldmVub2RkIiwKICAibGluZUNhcCI6ICJyb3VuZCIsCiAgImxpbmVKb2luIjogInJvdW5kIiwKICAib3BhY2l0eSI6IDEuMCwKICAicmFkaXVzIjogMywKICAic3Ryb2tlIjogdHJ1ZSwKICAid2VpZ2h0IjogMwp9CiAgICAgICAgICAgICAgICApCiAgICAgICAgICAgICAgICAuYWRkVG8obWFwXzFlYjQxNmRkODYxZDQ0YTFiNTdhM2ZkNWY0ZmNhYjdlKTsKICAgICAgICAgICAgCiAgICAKICAgICAgICAgICAgdmFyIHBvcHVwXzNhMGY3ZWQ4NTIyZjQzMTA4ZGQyYTIxYmE5ZTVhYzJhID0gTC5wb3B1cCh7bWF4V2lkdGg6ICczMDAnCiAgICAgICAgICAgIAogICAgICAgICAgICB9KTsKCiAgICAgICAgICAgIAogICAgICAgICAgICAgICAgdmFyIGh0bWxfNmFhYzJjMzFmNGQxNGYxM2JkMTUwY2E3Nzc4Y2ExNGIgPSAkKCc8ZGl2IGlkPSJodG1sXzZhYWMyYzMxZjRkMTRmMTNiZDE1MGNhNzc3OGNhMTRiIiBzdHlsZT0id2lkdGg6IDEwMC4wJTsgaGVpZ2h0OiAxMDAuMCU7Ij40MC43NzQzMzM5NTM4NTc0MiwtNzMuODcyNzExMTgxNjQwNjI8L2Rpdj4nKVswXTsKICAgICAgICAgICAgICAgIHBvcHVwXzNhMGY3ZWQ4NTIyZjQzMTA4ZGQyYTIxYmE5ZTVhYzJhLnNldENvbnRlbnQoaHRtbF82YWFjMmMzMWY0ZDE0ZjEzYmQxNTBjYTc3NzhjYTE0Yik7CiAgICAgICAgICAgIAoKICAgICAgICAgICAgY2lyY2xlX21hcmtlcl82NmE0MTRiMWQ0M2Y0MGMxOWRiM2M2OGUyZGM1N2MxZC5iaW5kUG9wdXAocG9wdXBfM2EwZjdlZDg1MjJmNDMxMDhkZDJhMjFiYTllNWFjMmEpCiAgICAgICAgICAgIDsKCiAgICAgICAgICAgIAogICAgICAgIAogICAgCiAgICAgICAgICAgICAgICB2YXIgcG9seV9saW5lX2IyYWEyNjE1ZDk1ZjQwMGRiODEyMTg0NDhmOTgzYWMwID0gTC5wb2x5bGluZSgKICAgICAgICAgICAgICAgICAgICBbWzQwLjcyMTA4MDc4MDAyOTMsIC03NC4wMDk5NDg3MzA0Njg3NV0sIFs0MC43NzQzMzM5NTM4NTc0MiwgLTczLjg3MjcxMTE4MTY0MDYyXV0sCiAgICAgICAgICAgICAgICAgICAgewogICJidWJibGluZ01vdXNlRXZlbnRzIjogdHJ1ZSwKICAiY29sb3IiOiAiZ3JlZW4iLAogICJkYXNoQXJyYXkiOiBudWxsLAogICJkYXNoT2Zmc2V0IjogbnVsbCwKICAiZmlsbCI6IGZhbHNlLAogICJmaWxsQ29sb3IiOiAiZ3JlZW4iLAogICJmaWxsT3BhY2l0eSI6IDAuMiwKICAiZmlsbFJ1bGUiOiAiZXZlbm9kZCIsCiAgImxpbmVDYXAiOiAicm91bmQiLAogICJsaW5lSm9pbiI6ICJyb3VuZCIsCiAgIm5vQ2xpcCI6IGZhbHNlLAogICJvcGFjaXR5IjogMS4wLAogICJzbW9vdGhGYWN0b3IiOiAxLjAsCiAgInN0cm9rZSI6IHRydWUsCiAgIndlaWdodCI6IDMKfQogICAgICAgICAgICAgICAgICAgICkKICAgICAgICAgICAgICAgICAgICAuYWRkVG8obWFwXzFlYjQxNmRkODYxZDQ0YTFiNTdhM2ZkNWY0ZmNhYjdlKTsKICAgICAgICAgICAgCiAgICAKICAgICAgICAgICAgdmFyIGNpcmNsZV9tYXJrZXJfZDgyNjAyZjA4OGU5NDM4ODg2N2NkMzFkODFmMzU4YmEgPSBMLmNpcmNsZU1hcmtlcigKICAgICAgICAgICAgICAgIFs0MC43MDUzNzU2NzEzODY3MiwgLTc0LjAwNzE3MTYzMDg1OTM4XSwKICAgICAgICAgICAgICAgIHsKICAiYnViYmxpbmdNb3VzZUV2ZW50cyI6IHRydWUsCiAgImNvbG9yIjogImJsdWUiLAogICJkYXNoQXJyYXkiOiBudWxsLAogICJkYXNoT2Zmc2V0IjogbnVsbCwKICAiZmlsbCI6IHRydWUsCiAgImZpbGxDb2xvciI6ICIjRkQ4QTZDIiwKICAiZmlsbE9wYWNpdHkiOiAwLjIsCiAgImZpbGxSdWxlIjogImV2ZW5vZGQiLAogICJsaW5lQ2FwIjogInJvdW5kIiwKICAibGluZUpvaW4iOiAicm91bmQiLAogICJvcGFjaXR5IjogMS4wLAogICJyYWRpdXMiOiAzLAogICJzdHJva2UiOiB0cnVlLAogICJ3ZWlnaHQiOiAzCn0KICAgICAgICAgICAgICAgICkKICAgICAgICAgICAgICAgIC5hZGRUbyhtYXBfMWViNDE2ZGQ4NjFkNDRhMWI1N2EzZmQ1ZjRmY2FiN2UpOwogICAgICAgICAgICAKICAgIAogICAgICAgICAgICB2YXIgcG9wdXBfNzhlYmU0ODBkMzQ0NDkwOWI3MzIzYzhkMDk2NzY4ODEgPSBMLnBvcHVwKHttYXhXaWR0aDogJzMwMCcKICAgICAgICAgICAgCiAgICAgICAgICAgIH0pOwoKICAgICAgICAgICAgCiAgICAgICAgICAgICAgICB2YXIgaHRtbF81MmQxMTAxNGZkZWU0OGMwOTUyMDgxNjg3ZmRmNjk3MyA9ICQoJzxkaXYgaWQ9Imh0bWxfNTJkMTEwMTRmZGVlNDhjMDk1MjA4MTY4N2ZkZjY5NzMiIHN0eWxlPSJ3aWR0aDogMTAwLjAlOyBoZWlnaHQ6IDEwMC4wJTsiPjQwLjcwNTM3NTY3MTM4NjcyLC03NC4wMDcxNzE2MzA4NTkzODwvZGl2PicpWzBdOwogICAgICAgICAgICAgICAgcG9wdXBfNzhlYmU0ODBkMzQ0NDkwOWI3MzIzYzhkMDk2NzY4ODEuc2V0Q29udGVudChodG1sXzUyZDExMDE0ZmRlZTQ4YzA5NTIwODE2ODdmZGY2OTczKTsKICAgICAgICAgICAgCgogICAgICAgICAgICBjaXJjbGVfbWFya2VyX2Q4MjYwMmYwODhlOTQzODg4NjdjZDMxZDgxZjM1OGJhLmJpbmRQb3B1cChwb3B1cF83OGViZTQ4MGQzNDQ0OTA5YjczMjNjOGQwOTY3Njg4MSkKICAgICAgICAgICAgOwoKICAgICAgICAgICAgCiAgICAgICAgCiAgICAKICAgICAgICAgICAgdmFyIGNpcmNsZV9tYXJrZXJfZmI3MmYyZTllNTJlNDE4NWE5ZmYxOTBmODBhZDk2MDIgPSBMLmNpcmNsZU1hcmtlcigKICAgICAgICAgICAgICAgIFs0MC43NTc3MDU2ODg0NzY1NiwgLTczLjk2NTE3OTQ0MzM1OTM4XSwKICAgICAgICAgICAgICAgIHsKICAiYnViYmxpbmdNb3VzZUV2ZW50cyI6IHRydWUsCiAgImNvbG9yIjogInJlZCIsCiAgImRhc2hBcnJheSI6IG51bGwsCiAgImRhc2hPZmZzZXQiOiBudWxsLAogICJmaWxsIjogdHJ1ZSwKICAiZmlsbENvbG9yIjogIiNGRDhBNkMiLAogICJmaWxsT3BhY2l0eSI6IDAuMiwKICAiZmlsbFJ1bGUiOiAiZXZlbm9kZCIsCiAgImxpbmVDYXAiOiAicm91bmQiLAogICJsaW5lSm9pbiI6ICJyb3VuZCIsCiAgIm9wYWNpdHkiOiAxLjAsCiAgInJhZGl1cyI6IDMsCiAgInN0cm9rZSI6IHRydWUsCiAgIndlaWdodCI6IDMKfQogICAgICAgICAgICAgICAgKQogICAgICAgICAgICAgICAgLmFkZFRvKG1hcF8xZWI0MTZkZDg2MWQ0NGExYjU3YTNmZDVmNGZjYWI3ZSk7CiAgICAgICAgICAgIAogICAgCiAgICAgICAgICAgIHZhciBwb3B1cF9iNjFjNjliNzUzNWU0ODkyODUyNGM4YmE5YzJkYzI5YyA9IEwucG9wdXAoe21heFdpZHRoOiAnMzAwJwogICAgICAgICAgICAKICAgICAgICAgICAgfSk7CgogICAgICAgICAgICAKICAgICAgICAgICAgICAgIHZhciBodG1sXzQ4ZjEwNTk2YTY0MDRiNTE5OWMyNzBlYmMyMDAyM2ZkID0gJCgnPGRpdiBpZD0iaHRtbF80OGYxMDU5NmE2NDA0YjUxOTljMjcwZWJjMjAwMjNmZCIgc3R5bGU9IndpZHRoOiAxMDAuMCU7IGhlaWdodDogMTAwLjAlOyI+NDAuNzU3NzA1Njg4NDc2NTYsLTczLjk2NTE3OTQ0MzM1OTM4PC9kaXY+JylbMF07CiAgICAgICAgICAgICAgICBwb3B1cF9iNjFjNjliNzUzNWU0ODkyODUyNGM4YmE5YzJkYzI5Yy5zZXRDb250ZW50KGh0bWxfNDhmMTA1OTZhNjQwNGI1MTk5YzI3MGViYzIwMDIzZmQpOwogICAgICAgICAgICAKCiAgICAgICAgICAgIGNpcmNsZV9tYXJrZXJfZmI3MmYyZTllNTJlNDE4NWE5ZmYxOTBmODBhZDk2MDIuYmluZFBvcHVwKHBvcHVwX2I2MWM2OWI3NTM1ZTQ4OTI4NTI0YzhiYTljMmRjMjljKQogICAgICAgICAgICA7CgogICAgICAgICAgICAKICAgICAgICAKICAgIAogICAgICAgICAgICAgICAgdmFyIHBvbHlfbGluZV80YzNlOGQ1MTExZTA0YWM1OTVlN2ZkOGY2NTI1NGI1YSA9IEwucG9seWxpbmUoCiAgICAgICAgICAgICAgICAgICAgW1s0MC43MDUzNzU2NzEzODY3MiwgLTc0LjAwNzE3MTYzMDg1OTM4XSwgWzQwLjc1NzcwNTY4ODQ3NjU2LCAtNzMuOTY1MTc5NDQzMzU5MzhdXSwKICAgICAgICAgICAgICAgICAgICB7CiAgImJ1YmJsaW5nTW91c2VFdmVudHMiOiB0cnVlLAogICJjb2xvciI6ICJncmVlbiIsCiAgImRhc2hBcnJheSI6IG51bGwsCiAgImRhc2hPZmZzZXQiOiBudWxsLAogICJmaWxsIjogZmFsc2UsCiAgImZpbGxDb2xvciI6ICJncmVlbiIsCiAgImZpbGxPcGFjaXR5IjogMC4yLAogICJmaWxsUnVsZSI6ICJldmVub2RkIiwKICAibGluZUNhcCI6ICJyb3VuZCIsCiAgImxpbmVKb2luIjogInJvdW5kIiwKICAibm9DbGlwIjogZmFsc2UsCiAgIm9wYWNpdHkiOiAxLjAsCiAgInNtb290aEZhY3RvciI6IDEuMCwKICAic3Ryb2tlIjogdHJ1ZSwKICAid2VpZ2h0IjogMwp9CiAgICAgICAgICAgICAgICAgICAgKQogICAgICAgICAgICAgICAgICAgIC5hZGRUbyhtYXBfMWViNDE2ZGQ4NjFkNDRhMWI1N2EzZmQ1ZjRmY2FiN2UpOwogICAgICAgICAgICAKICAgIAogICAgICAgICAgICB2YXIgY2lyY2xlX21hcmtlcl9jNjA4NmY1MjAyNzA0NWU5YmUxYjNkZmY4Yzk0YzhhYiA9IEwuY2lyY2xlTWFya2VyKAogICAgICAgICAgICAgICAgWzQwLjc1ODAyOTkzNzc0NDE1LCAtNzMuOTY3NDM3NzQ0MTQwNjJdLAogICAgICAgICAgICAgICAgewogICJidWJibGluZ01vdXNlRXZlbnRzIjogdHJ1ZSwKICAiY29sb3IiOiAiYmx1ZSIsCiAgImRhc2hBcnJheSI6IG51bGwsCiAgImRhc2hPZmZzZXQiOiBudWxsLAogICJmaWxsIjogdHJ1ZSwKICAiZmlsbENvbG9yIjogIiNGRDhBNkMiLAogICJmaWxsT3BhY2l0eSI6IDAuMiwKICAiZmlsbFJ1bGUiOiAiZXZlbm9kZCIsCiAgImxpbmVDYXAiOiAicm91bmQiLAogICJsaW5lSm9pbiI6ICJyb3VuZCIsCiAgIm9wYWNpdHkiOiAxLjAsCiAgInJhZGl1cyI6IDMsCiAgInN0cm9rZSI6IHRydWUsCiAgIndlaWdodCI6IDMKfQogICAgICAgICAgICAgICAgKQogICAgICAgICAgICAgICAgLmFkZFRvKG1hcF8xZWI0MTZkZDg2MWQ0NGExYjU3YTNmZDVmNGZjYWI3ZSk7CiAgICAgICAgICAgIAogICAgCiAgICAgICAgICAgIHZhciBwb3B1cF9iYzFmZDc3OTM2NjA0ZmRkODIzZTlmNjYyMTliNGZhMyA9IEwucG9wdXAoe21heFdpZHRoOiAnMzAwJwogICAgICAgICAgICAKICAgICAgICAgICAgfSk7CgogICAgICAgICAgICAKICAgICAgICAgICAgICAgIHZhciBodG1sXzIyYmRjZDI0ZWUxNzQ0Njc5YzdiNjAxMTMyZjg2OGVhID0gJCgnPGRpdiBpZD0iaHRtbF8yMmJkY2QyNGVlMTc0NDY3OWM3YjYwMTEzMmY4NjhlYSIgc3R5bGU9IndpZHRoOiAxMDAuMCU7IGhlaWdodDogMTAwLjAlOyI+NDAuNzU4MDI5OTM3NzQ0MTUsLTczLjk2NzQzNzc0NDE0MDYyPC9kaXY+JylbMF07CiAgICAgICAgICAgICAgICBwb3B1cF9iYzFmZDc3OTM2NjA0ZmRkODIzZTlmNjYyMTliNGZhMy5zZXRDb250ZW50KGh0bWxfMjJiZGNkMjRlZTE3NDQ2NzljN2I2MDExMzJmODY4ZWEpOwogICAgICAgICAgICAKCiAgICAgICAgICAgIGNpcmNsZV9tYXJrZXJfYzYwODZmNTIwMjcwNDVlOWJlMWIzZGZmOGM5NGM4YWIuYmluZFBvcHVwKHBvcHVwX2JjMWZkNzc5MzY2MDRmZGQ4MjNlOWY2NjIxOWI0ZmEzKQogICAgICAgICAgICA7CgogICAgICAgICAgICAKICAgICAgICAKICAgIAogICAgICAgICAgICB2YXIgY2lyY2xlX21hcmtlcl9mYzQ5Y2Y1MzBmNDg0ZTI2YTAzYjIyMTIzMmZlYTE0MCA9IEwuY2lyY2xlTWFya2VyKAogICAgICAgICAgICAgICAgWzQwLjc2NjEwOTQ2NjU1MjczNCwgLTczLjk1NDQ4MzAzMjIyNjU2XSwKICAgICAgICAgICAgICAgIHsKICAiYnViYmxpbmdNb3VzZUV2ZW50cyI6IHRydWUsCiAgImNvbG9yIjogInJlZCIsCiAgImRhc2hBcnJheSI6IG51bGwsCiAgImRhc2hPZmZzZXQiOiBudWxsLAogICJmaWxsIjogdHJ1ZSwKICAiZmlsbENvbG9yIjogIiNGRDhBNkMiLAogICJmaWxsT3BhY2l0eSI6IDAuMiwKICAiZmlsbFJ1bGUiOiAiZXZlbm9kZCIsCiAgImxpbmVDYXAiOiAicm91bmQiLAogICJsaW5lSm9pbiI6ICJyb3VuZCIsCiAgIm9wYWNpdHkiOiAxLjAsCiAgInJhZGl1cyI6IDMsCiAgInN0cm9rZSI6IHRydWUsCiAgIndlaWdodCI6IDMKfQogICAgICAgICAgICAgICAgKQogICAgICAgICAgICAgICAgLmFkZFRvKG1hcF8xZWI0MTZkZDg2MWQ0NGExYjU3YTNmZDVmNGZjYWI3ZSk7CiAgICAgICAgICAgIAogICAgCiAgICAgICAgICAgIHZhciBwb3B1cF8yMWFkNzAxYTRlNDY0ZDhiYmRlNTVkMDBjYTMzNWZlOCA9IEwucG9wdXAoe21heFdpZHRoOiAnMzAwJwogICAgICAgICAgICAKICAgICAgICAgICAgfSk7CgogICAgICAgICAgICAKICAgICAgICAgICAgICAgIHZhciBodG1sXzg0NDJiNWRiZGU3YTQ1ZjFhNTVlMGJkMzU5ZGFmODgxID0gJCgnPGRpdiBpZD0iaHRtbF84NDQyYjVkYmRlN2E0NWYxYTU1ZTBiZDM1OWRhZjg4MSIgc3R5bGU9IndpZHRoOiAxMDAuMCU7IGhlaWdodDogMTAwLjAlOyI+NDAuNzY2MTA5NDY2NTUyNzM0LC03My45NTQ0ODMwMzIyMjY1NjwvZGl2PicpWzBdOwogICAgICAgICAgICAgICAgcG9wdXBfMjFhZDcwMWE0ZTQ2NGQ4YmJkZTU1ZDAwY2EzMzVmZTguc2V0Q29udGVudChodG1sXzg0NDJiNWRiZGU3YTQ1ZjFhNTVlMGJkMzU5ZGFmODgxKTsKICAgICAgICAgICAgCgogICAgICAgICAgICBjaXJjbGVfbWFya2VyX2ZjNDljZjUzMGY0ODRlMjZhMDNiMjIxMjMyZmVhMTQwLmJpbmRQb3B1cChwb3B1cF8yMWFkNzAxYTRlNDY0ZDhiYmRlNTVkMDBjYTMzNWZlOCkKICAgICAgICAgICAgOwoKICAgICAgICAgICAgCiAgICAgICAgCiAgICAKICAgICAgICAgICAgICAgIHZhciBwb2x5X2xpbmVfMWYyODc2MGIyM2U3NDhlZTk4Mzk4N2EzMzkzZGM1MjggPSBMLnBvbHlsaW5lKAogICAgICAgICAgICAgICAgICAgIFtbNDAuNzU4MDI5OTM3NzQ0MTUsIC03My45Njc0Mzc3NDQxNDA2Ml0sIFs0MC43NjYxMDk0NjY1NTI3MzQsIC03My45NTQ0ODMwMzIyMjY1Nl1dLAogICAgICAgICAgICAgICAgICAgIHsKICAiYnViYmxpbmdNb3VzZUV2ZW50cyI6IHRydWUsCiAgImNvbG9yIjogImdyZWVuIiwKICAiZGFzaEFycmF5IjogbnVsbCwKICAiZGFzaE9mZnNldCI6IG51bGwsCiAgImZpbGwiOiBmYWxzZSwKICAiZmlsbENvbG9yIjogImdyZWVuIiwKICAiZmlsbE9wYWNpdHkiOiAwLjIsCiAgImZpbGxSdWxlIjogImV2ZW5vZGQiLAogICJsaW5lQ2FwIjogInJvdW5kIiwKICAibGluZUpvaW4iOiAicm91bmQiLAogICJub0NsaXAiOiBmYWxzZSwKICAib3BhY2l0eSI6IDEuMCwKICAic21vb3RoRmFjdG9yIjogMS4wLAogICJzdHJva2UiOiB0cnVlLAogICJ3ZWlnaHQiOiAzCn0KICAgICAgICAgICAgICAgICAgICApCiAgICAgICAgICAgICAgICAgICAgLmFkZFRvKG1hcF8xZWI0MTZkZDg2MWQ0NGExYjU3YTNmZDVmNGZjYWI3ZSk7CiAgICAgICAgICAgIAogICAgCiAgICAgICAgICAgIHZhciBjaXJjbGVfbWFya2VyX2M5NjRhZGI5MmI4ZDRlMjI5MWYwMzkwNTM5YmM0NmU2ID0gTC5jaXJjbGVNYXJrZXIoCiAgICAgICAgICAgICAgICBbNDAuNzQyOTA4NDc3NzgzMiwgLTczLjk4NjY0ODU1OTU3MDNdLAogICAgICAgICAgICAgICAgewogICJidWJibGluZ01vdXNlRXZlbnRzIjogdHJ1ZSwKICAiY29sb3IiOiAiYmx1ZSIsCiAgImRhc2hBcnJheSI6IG51bGwsCiAgImRhc2hPZmZzZXQiOiBudWxsLAogICJmaWxsIjogdHJ1ZSwKICAiZmlsbENvbG9yIjogIiNGRDhBNkMiLAogICJmaWxsT3BhY2l0eSI6IDAuMiwKICAiZmlsbFJ1bGUiOiAiZXZlbm9kZCIsCiAgImxpbmVDYXAiOiAicm91bmQiLAogICJsaW5lSm9pbiI6ICJyb3VuZCIsCiAgIm9wYWNpdHkiOiAxLjAsCiAgInJhZGl1cyI6IDMsCiAgInN0cm9rZSI6IHRydWUsCiAgIndlaWdodCI6IDMKfQogICAgICAgICAgICAgICAgKQogICAgICAgICAgICAgICAgLmFkZFRvKG1hcF8xZWI0MTZkZDg2MWQ0NGExYjU3YTNmZDVmNGZjYWI3ZSk7CiAgICAgICAgICAgIAogICAgCiAgICAgICAgICAgIHZhciBwb3B1cF84MTExNzk0ZDIyOWQ0NDkxYmU2OWZiZWY0YmE2Y2QxYSA9IEwucG9wdXAoe21heFdpZHRoOiAnMzAwJwogICAgICAgICAgICAKICAgICAgICAgICAgfSk7CgogICAgICAgICAgICAKICAgICAgICAgICAgICAgIHZhciBodG1sX2JkYzJlZjYzOWMzZDRjMGU5OWExNGUwZGIwMjc1MDY4ID0gJCgnPGRpdiBpZD0iaHRtbF9iZGMyZWY2MzljM2Q0YzBlOTlhMTRlMGRiMDI3NTA2OCIgc3R5bGU9IndpZHRoOiAxMDAuMCU7IGhlaWdodDogMTAwLjAlOyI+NDAuNzQyOTA4NDc3NzgzMiwtNzMuOTg2NjQ4NTU5NTcwMzwvZGl2PicpWzBdOwogICAgICAgICAgICAgICAgcG9wdXBfODExMTc5NGQyMjlkNDQ5MWJlNjlmYmVmNGJhNmNkMWEuc2V0Q29udGVudChodG1sX2JkYzJlZjYzOWMzZDRjMGU5OWExNGUwZGIwMjc1MDY4KTsKICAgICAgICAgICAgCgogICAgICAgICAgICBjaXJjbGVfbWFya2VyX2M5NjRhZGI5MmI4ZDRlMjI5MWYwMzkwNTM5YmM0NmU2LmJpbmRQb3B1cChwb3B1cF84MTExNzk0ZDIyOWQ0NDkxYmU2OWZiZWY0YmE2Y2QxYSkKICAgICAgICAgICAgOwoKICAgICAgICAgICAgCiAgICAgICAgCiAgICAKICAgICAgICAgICAgdmFyIGNpcmNsZV9tYXJrZXJfYTNkYzM0ZTYzMGM3NDg5Yjg2MDliMTlhOGNkNGIzZmIgPSBMLmNpcmNsZU1hcmtlcigKICAgICAgICAgICAgICAgIFs0MC43NTA1NDkzMTY0MDYyNSwgLTczLjk4MDgyNzMzMTU0Mjk4XSwKICAgICAgICAgICAgICAgIHsKICAiYnViYmxpbmdNb3VzZUV2ZW50cyI6IHRydWUsCiAgImNvbG9yIjogInJlZCIsCiAgImRhc2hBcnJheSI6IG51bGwsCiAgImRhc2hPZmZzZXQiOiBudWxsLAogICJmaWxsIjogdHJ1ZSwKICAiZmlsbENvbG9yIjogIiNGRDhBNkMiLAogICJmaWxsT3BhY2l0eSI6IDAuMiwKICAiZmlsbFJ1bGUiOiAiZXZlbm9kZCIsCiAgImxpbmVDYXAiOiAicm91bmQiLAogICJsaW5lSm9pbiI6ICJyb3VuZCIsCiAgIm9wYWNpdHkiOiAxLjAsCiAgInJhZGl1cyI6IDMsCiAgInN0cm9rZSI6IHRydWUsCiAgIndlaWdodCI6IDMKfQogICAgICAgICAgICAgICAgKQogICAgICAgICAgICAgICAgLmFkZFRvKG1hcF8xZWI0MTZkZDg2MWQ0NGExYjU3YTNmZDVmNGZjYWI3ZSk7CiAgICAgICAgICAgIAogICAgCiAgICAgICAgICAgIHZhciBwb3B1cF8xNzI0Y2IwOGM5MGQ0OWM3YjM0NDE4YjU3MDNiM2U5MiA9IEwucG9wdXAoe21heFdpZHRoOiAnMzAwJwogICAgICAgICAgICAKICAgICAgICAgICAgfSk7CgogICAgICAgICAgICAKICAgICAgICAgICAgICAgIHZhciBodG1sX2U3MWE3MzM2ZjNjNTRlYmRiNzM3NTMwOTVhNGY2NzI0ID0gJCgnPGRpdiBpZD0iaHRtbF9lNzFhNzMzNmYzYzU0ZWJkYjczNzUzMDk1YTRmNjcyNCIgc3R5bGU9IndpZHRoOiAxMDAuMCU7IGhlaWdodDogMTAwLjAlOyI+NDAuNzUwNTQ5MzE2NDA2MjUsLTczLjk4MDgyNzMzMTU0Mjk4PC9kaXY+JylbMF07CiAgICAgICAgICAgICAgICBwb3B1cF8xNzI0Y2IwOGM5MGQ0OWM3YjM0NDE4YjU3MDNiM2U5Mi5zZXRDb250ZW50KGh0bWxfZTcxYTczMzZmM2M1NGViZGI3Mzc1MzA5NWE0ZjY3MjQpOwogICAgICAgICAgICAKCiAgICAgICAgICAgIGNpcmNsZV9tYXJrZXJfYTNkYzM0ZTYzMGM3NDg5Yjg2MDliMTlhOGNkNGIzZmIuYmluZFBvcHVwKHBvcHVwXzE3MjRjYjA4YzkwZDQ5YzdiMzQ0MThiNTcwM2IzZTkyKQogICAgICAgICAgICA7CgogICAgICAgICAgICAKICAgICAgICAKICAgIAogICAgICAgICAgICAgICAgdmFyIHBvbHlfbGluZV9iMzliNzJhODYzZWY0NzliOTExOWZiYWM3ZmUyM2ZjOSA9IEwucG9seWxpbmUoCiAgICAgICAgICAgICAgICAgICAgW1s0MC43NDI5MDg0Nzc3ODMyLCAtNzMuOTg2NjQ4NTU5NTcwM10sIFs0MC43NTA1NDkzMTY0MDYyNSwgLTczLjk4MDgyNzMzMTU0Mjk4XV0sCiAgICAgICAgICAgICAgICAgICAgewogICJidWJibGluZ01vdXNlRXZlbnRzIjogdHJ1ZSwKICAiY29sb3IiOiAiZ3JlZW4iLAogICJkYXNoQXJyYXkiOiBudWxsLAogICJkYXNoT2Zmc2V0IjogbnVsbCwKICAiZmlsbCI6IGZhbHNlLAogICJmaWxsQ29sb3IiOiAiZ3JlZW4iLAogICJmaWxsT3BhY2l0eSI6IDAuMiwKICAiZmlsbFJ1bGUiOiAiZXZlbm9kZCIsCiAgImxpbmVDYXAiOiAicm91bmQiLAogICJsaW5lSm9pbiI6ICJyb3VuZCIsCiAgIm5vQ2xpcCI6IGZhbHNlLAogICJvcGFjaXR5IjogMS4wLAogICJzbW9vdGhGYWN0b3IiOiAxLjAsCiAgInN0cm9rZSI6IHRydWUsCiAgIndlaWdodCI6IDMKfQogICAgICAgICAgICAgICAgICAgICkKICAgICAgICAgICAgICAgICAgICAuYWRkVG8obWFwXzFlYjQxNmRkODYxZDQ0YTFiNTdhM2ZkNWY0ZmNhYjdlKTsKICAgICAgICAgICAgCiAgICAKICAgICAgICAgICAgdmFyIGNpcmNsZV9tYXJrZXJfMWMyNzA2ZWQxMGQ0NGE0ZWE4ODU5MjIzZWE4YjAyMGIgPSBMLmNpcmNsZU1hcmtlcigKICAgICAgICAgICAgICAgIFs0MC43NjQwMTkwMTI0NTExNywgLTczLjk3NDEyMTA5Mzc1XSwKICAgICAgICAgICAgICAgIHsKICAiYnViYmxpbmdNb3VzZUV2ZW50cyI6IHRydWUsCiAgImNvbG9yIjogImJsdWUiLAogICJkYXNoQXJyYXkiOiBudWxsLAogICJkYXNoT2Zmc2V0IjogbnVsbCwKICAiZmlsbCI6IHRydWUsCiAgImZpbGxDb2xvciI6ICIjRkQ4QTZDIiwKICAiZmlsbE9wYWNpdHkiOiAwLjIsCiAgImZpbGxSdWxlIjogImV2ZW5vZGQiLAogICJsaW5lQ2FwIjogInJvdW5kIiwKICAibGluZUpvaW4iOiAicm91bmQiLAogICJvcGFjaXR5IjogMS4wLAogICJyYWRpdXMiOiAzLAogICJzdHJva2UiOiB0cnVlLAogICJ3ZWlnaHQiOiAzCn0KICAgICAgICAgICAgICAgICkKICAgICAgICAgICAgICAgIC5hZGRUbyhtYXBfMWViNDE2ZGQ4NjFkNDRhMWI1N2EzZmQ1ZjRmY2FiN2UpOwogICAgICAgICAgICAKICAgIAogICAgICAgICAgICB2YXIgcG9wdXBfMDk1YzhhZjUxNGUxNGFhMzlhYzA4MDJlMWZiZGVkZDYgPSBMLnBvcHVwKHttYXhXaWR0aDogJzMwMCcKICAgICAgICAgICAgCiAgICAgICAgICAgIH0pOwoKICAgICAgICAgICAgCiAgICAgICAgICAgICAgICB2YXIgaHRtbF82NTI3YjdhMGIyZmI0ZmUzOWFiZmVkYzBmNGU0OTkyMSA9ICQoJzxkaXYgaWQ9Imh0bWxfNjUyN2I3YTBiMmZiNGZlMzlhYmZlZGMwZjRlNDk5MjEiIHN0eWxlPSJ3aWR0aDogMTAwLjAlOyBoZWlnaHQ6IDEwMC4wJTsiPjQwLjc2NDAxOTAxMjQ1MTE3LC03My45NzQxMjEwOTM3NTwvZGl2PicpWzBdOwogICAgICAgICAgICAgICAgcG9wdXBfMDk1YzhhZjUxNGUxNGFhMzlhYzA4MDJlMWZiZGVkZDYuc2V0Q29udGVudChodG1sXzY1MjdiN2EwYjJmYjRmZTM5YWJmZWRjMGY0ZTQ5OTIxKTsKICAgICAgICAgICAgCgogICAgICAgICAgICBjaXJjbGVfbWFya2VyXzFjMjcwNmVkMTBkNDRhNGVhODg1OTIyM2VhOGIwMjBiLmJpbmRQb3B1cChwb3B1cF8wOTVjOGFmNTE0ZTE0YWEzOWFjMDgwMmUxZmJkZWRkNikKICAgICAgICAgICAgOwoKICAgICAgICAgICAgCiAgICAgICAgCiAgICAKICAgICAgICAgICAgdmFyIGNpcmNsZV9tYXJrZXJfNDYyYWI0NDUxNjUzNGNjN2ExOTJkMTA2YjcxYTFiZGQgPSBMLmNpcmNsZU1hcmtlcigKICAgICAgICAgICAgICAgIFs0MC43NzI0MzA0MTk5MjE4OCwgLTczLjk1ODc0Nzg2Mzc2OTU1XSwKICAgICAgICAgICAgICAgIHsKICAiYnViYmxpbmdNb3VzZUV2ZW50cyI6IHRydWUsCiAgImNvbG9yIjogInJlZCIsCiAgImRhc2hBcnJheSI6IG51bGwsCiAgImRhc2hPZmZzZXQiOiBudWxsLAogICJmaWxsIjogdHJ1ZSwKICAiZmlsbENvbG9yIjogIiNGRDhBNkMiLAogICJmaWxsT3BhY2l0eSI6IDAuMiwKICAiZmlsbFJ1bGUiOiAiZXZlbm9kZCIsCiAgImxpbmVDYXAiOiAicm91bmQiLAogICJsaW5lSm9pbiI6ICJyb3VuZCIsCiAgIm9wYWNpdHkiOiAxLjAsCiAgInJhZGl1cyI6IDMsCiAgInN0cm9rZSI6IHRydWUsCiAgIndlaWdodCI6IDMKfQogICAgICAgICAgICAgICAgKQogICAgICAgICAgICAgICAgLmFkZFRvKG1hcF8xZWI0MTZkZDg2MWQ0NGExYjU3YTNmZDVmNGZjYWI3ZSk7CiAgICAgICAgICAgIAogICAgCiAgICAgICAgICAgIHZhciBwb3B1cF9hNWRmM2NhYzRjNDM0YzBjOGY5OTRmOGQ1ZTU3ODIzZiA9IEwucG9wdXAoe21heFdpZHRoOiAnMzAwJwogICAgICAgICAgICAKICAgICAgICAgICAgfSk7CgogICAgICAgICAgICAKICAgICAgICAgICAgICAgIHZhciBodG1sXzA1YzhhMzZkY2M2ZjQxODliNjhkYThhZmVmODZmYjhmID0gJCgnPGRpdiBpZD0iaHRtbF8wNWM4YTM2ZGNjNmY0MTg5YjY4ZGE4YWZlZjg2ZmI4ZiIgc3R5bGU9IndpZHRoOiAxMDAuMCU7IGhlaWdodDogMTAwLjAlOyI+NDAuNzcyNDMwNDE5OTIxODgsLTczLjk1ODc0Nzg2Mzc2OTU1PC9kaXY+JylbMF07CiAgICAgICAgICAgICAgICBwb3B1cF9hNWRmM2NhYzRjNDM0YzBjOGY5OTRmOGQ1ZTU3ODIzZi5zZXRDb250ZW50KGh0bWxfMDVjOGEzNmRjYzZmNDE4OWI2OGRhOGFmZWY4NmZiOGYpOwogICAgICAgICAgICAKCiAgICAgICAgICAgIGNpcmNsZV9tYXJrZXJfNDYyYWI0NDUxNjUzNGNjN2ExOTJkMTA2YjcxYTFiZGQuYmluZFBvcHVwKHBvcHVwX2E1ZGYzY2FjNGM0MzRjMGM4Zjk5NGY4ZDVlNTc4MjNmKQogICAgICAgICAgICA7CgogICAgICAgICAgICAKICAgICAgICAKICAgIAogICAgICAgICAgICAgICAgdmFyIHBvbHlfbGluZV9iYTY2ODNkNjBmNGY0ZDFkODgxYmE5MDdmMTU2ODZmNSA9IEwucG9seWxpbmUoCiAgICAgICAgICAgICAgICAgICAgW1s0MC43NjQwMTkwMTI0NTExNywgLTczLjk3NDEyMTA5Mzc1XSwgWzQwLjc3MjQzMDQxOTkyMTg4LCAtNzMuOTU4NzQ3ODYzNzY5NTVdXSwKICAgICAgICAgICAgICAgICAgICB7CiAgImJ1YmJsaW5nTW91c2VFdmVudHMiOiB0cnVlLAogICJjb2xvciI6ICJncmVlbiIsCiAgImRhc2hBcnJheSI6IG51bGwsCiAgImRhc2hPZmZzZXQiOiBudWxsLAogICJmaWxsIjogZmFsc2UsCiAgImZpbGxDb2xvciI6ICJncmVlbiIsCiAgImZpbGxPcGFjaXR5IjogMC4yLAogICJmaWxsUnVsZSI6ICJldmVub2RkIiwKICAibGluZUNhcCI6ICJyb3VuZCIsCiAgImxpbmVKb2luIjogInJvdW5kIiwKICAibm9DbGlwIjogZmFsc2UsCiAgIm9wYWNpdHkiOiAxLjAsCiAgInNtb290aEZhY3RvciI6IDEuMCwKICAic3Ryb2tlIjogdHJ1ZSwKICAid2VpZ2h0IjogMwp9CiAgICAgICAgICAgICAgICAgICAgKQogICAgICAgICAgICAgICAgICAgIC5hZGRUbyhtYXBfMWViNDE2ZGQ4NjFkNDRhMWI1N2EzZmQ1ZjRmY2FiN2UpOwogICAgICAgICAgICAKICAgIAogICAgICAgICAgICB2YXIgY2lyY2xlX21hcmtlcl82NmRjMmM2NGIxYTU0YThhOTc2ZTNhNDc5YzRlZmY2NiA9IEwuY2lyY2xlTWFya2VyKAogICAgICAgICAgICAgICAgWzQwLjc1OTEwOTQ5NzA3MDMxLCAtNzMuOTY4MDA5OTQ4NzMwNDhdLAogICAgICAgICAgICAgICAgewogICJidWJibGluZ01vdXNlRXZlbnRzIjogdHJ1ZSwKICAiY29sb3IiOiAiYmx1ZSIsCiAgImRhc2hBcnJheSI6IG51bGwsCiAgImRhc2hPZmZzZXQiOiBudWxsLAogICJmaWxsIjogdHJ1ZSwKICAiZmlsbENvbG9yIjogIiNGRDhBNkMiLAogICJmaWxsT3BhY2l0eSI6IDAuMiwKICAiZmlsbFJ1bGUiOiAiZXZlbm9kZCIsCiAgImxpbmVDYXAiOiAicm91bmQiLAogICJsaW5lSm9pbiI6ICJyb3VuZCIsCiAgIm9wYWNpdHkiOiAxLjAsCiAgInJhZGl1cyI6IDMsCiAgInN0cm9rZSI6IHRydWUsCiAgIndlaWdodCI6IDMKfQogICAgICAgICAgICAgICAgKQogICAgICAgICAgICAgICAgLmFkZFRvKG1hcF8xZWI0MTZkZDg2MWQ0NGExYjU3YTNmZDVmNGZjYWI3ZSk7CiAgICAgICAgICAgIAogICAgCiAgICAgICAgICAgIHZhciBwb3B1cF8wMjU1NzJkMmNmZDk0NzU3ODRhMDNiYmFkMzYzY2ZiNyA9IEwucG9wdXAoe21heFdpZHRoOiAnMzAwJwogICAgICAgICAgICAKICAgICAgICAgICAgfSk7CgogICAgICAgICAgICAKICAgICAgICAgICAgICAgIHZhciBodG1sXzJhNjgzZmYzZGE5OTQxNTlhOTRiOTY4YWFhYmZiN2VmID0gJCgnPGRpdiBpZD0iaHRtbF8yYTY4M2ZmM2RhOTk0MTU5YTk0Yjk2OGFhYWJmYjdlZiIgc3R5bGU9IndpZHRoOiAxMDAuMCU7IGhlaWdodDogMTAwLjAlOyI+NDAuNzU5MTA5NDk3MDcwMzEsLTczLjk2ODAwOTk0ODczMDQ4PC9kaXY+JylbMF07CiAgICAgICAgICAgICAgICBwb3B1cF8wMjU1NzJkMmNmZDk0NzU3ODRhMDNiYmFkMzYzY2ZiNy5zZXRDb250ZW50KGh0bWxfMmE2ODNmZjNkYTk5NDE1OWE5NGI5NjhhYWFiZmI3ZWYpOwogICAgICAgICAgICAKCiAgICAgICAgICAgIGNpcmNsZV9tYXJrZXJfNjZkYzJjNjRiMWE1NGE4YTk3NmUzYTQ3OWM0ZWZmNjYuYmluZFBvcHVwKHBvcHVwXzAyNTU3MmQyY2ZkOTQ3NTc4NGEwM2JiYWQzNjNjZmI3KQogICAgICAgICAgICA7CgogICAgICAgICAgICAKICAgICAgICAKICAgIAogICAgICAgICAgICB2YXIgY2lyY2xlX21hcmtlcl80MmNhOGU3ZDUzNDE0NTkzOTc5NTYxOTE0Mzc3YTlhNSA9IEwuY2lyY2xlTWFya2VyKAogICAgICAgICAgICAgICAgWzQwLjc3MjU5MDYzNzIwNzAzLCAtNzMuOTc4NTM4NTEzMTgzNThdLAogICAgICAgICAgICAgICAgewogICJidWJibGluZ01vdXNlRXZlbnRzIjogdHJ1ZSwKICAiY29sb3IiOiAicmVkIiwKICAiZGFzaEFycmF5IjogbnVsbCwKICAiZGFzaE9mZnNldCI6IG51bGwsCiAgImZpbGwiOiB0cnVlLAogICJmaWxsQ29sb3IiOiAiI0ZEOEE2QyIsCiAgImZpbGxPcGFjaXR5IjogMC4yLAogICJmaWxsUnVsZSI6ICJldmVub2RkIiwKICAibGluZUNhcCI6ICJyb3VuZCIsCiAgImxpbmVKb2luIjogInJvdW5kIiwKICAib3BhY2l0eSI6IDEuMCwKICAicmFkaXVzIjogMywKICAic3Ryb2tlIjogdHJ1ZSwKICAid2VpZ2h0IjogMwp9CiAgICAgICAgICAgICAgICApCiAgICAgICAgICAgICAgICAuYWRkVG8obWFwXzFlYjQxNmRkODYxZDQ0YTFiNTdhM2ZkNWY0ZmNhYjdlKTsKICAgICAgICAgICAgCiAgICAKICAgICAgICAgICAgdmFyIHBvcHVwXzY3YzQ1NzkyYjU4ZjQyNGU4MDQ3MWM2M2Y5YzQ1NzAwID0gTC5wb3B1cCh7bWF4V2lkdGg6ICczMDAnCiAgICAgICAgICAgIAogICAgICAgICAgICB9KTsKCiAgICAgICAgICAgIAogICAgICAgICAgICAgICAgdmFyIGh0bWxfMzRmYjA1ZTAwNzM2NGM2ZjhmMzZkNzlkM2JiNjNkMjkgPSAkKCc8ZGl2IGlkPSJodG1sXzM0ZmIwNWUwMDczNjRjNmY4ZjM2ZDc5ZDNiYjYzZDI5IiBzdHlsZT0id2lkdGg6IDEwMC4wJTsgaGVpZ2h0OiAxMDAuMCU7Ij40MC43NzI1OTA2MzcyMDcwMywtNzMuOTc4NTM4NTEzMTgzNTg8L2Rpdj4nKVswXTsKICAgICAgICAgICAgICAgIHBvcHVwXzY3YzQ1NzkyYjU4ZjQyNGU4MDQ3MWM2M2Y5YzQ1NzAwLnNldENvbnRlbnQoaHRtbF8zNGZiMDVlMDA3MzY0YzZmOGYzNmQ3OWQzYmI2M2QyOSk7CiAgICAgICAgICAgIAoKICAgICAgICAgICAgY2lyY2xlX21hcmtlcl80MmNhOGU3ZDUzNDE0NTkzOTc5NTYxOTE0Mzc3YTlhNS5iaW5kUG9wdXAocG9wdXBfNjdjNDU3OTJiNThmNDI0ZTgwNDcxYzYzZjljNDU3MDApCiAgICAgICAgICAgIDsKCiAgICAgICAgICAgIAogICAgICAgIAogICAgCiAgICAgICAgICAgICAgICB2YXIgcG9seV9saW5lX2NjNTU5OGZlMWJiMTRiM2VhZjQ3YzYwNzBjMjhiNGU1ID0gTC5wb2x5bGluZSgKICAgICAgICAgICAgICAgICAgICBbWzQwLjc1OTEwOTQ5NzA3MDMxLCAtNzMuOTY4MDA5OTQ4NzMwNDhdLCBbNDAuNzcyNTkwNjM3MjA3MDMsIC03My45Nzg1Mzg1MTMxODM1OF1dLAogICAgICAgICAgICAgICAgICAgIHsKICAiYnViYmxpbmdNb3VzZUV2ZW50cyI6IHRydWUsCiAgImNvbG9yIjogImdyZWVuIiwKICAiZGFzaEFycmF5IjogbnVsbCwKICAiZGFzaE9mZnNldCI6IG51bGwsCiAgImZpbGwiOiBmYWxzZSwKICAiZmlsbENvbG9yIjogImdyZWVuIiwKICAiZmlsbE9wYWNpdHkiOiAwLjIsCiAgImZpbGxSdWxlIjogImV2ZW5vZGQiLAogICJsaW5lQ2FwIjogInJvdW5kIiwKICAibGluZUpvaW4iOiAicm91bmQiLAogICJub0NsaXAiOiBmYWxzZSwKICAib3BhY2l0eSI6IDEuMCwKICAic21vb3RoRmFjdG9yIjogMS4wLAogICJzdHJva2UiOiB0cnVlLAogICJ3ZWlnaHQiOiAzCn0KICAgICAgICAgICAgICAgICAgICApCiAgICAgICAgICAgICAgICAgICAgLmFkZFRvKG1hcF8xZWI0MTZkZDg2MWQ0NGExYjU3YTNmZDVmNGZjYWI3ZSk7CiAgICAgICAgICAgIAogICAgCiAgICAgICAgICAgIHZhciBjaXJjbGVfbWFya2VyXzg3YmYwMmM1NmViYjQ3M2Q5NjQwYmYxNmIyY2RhMjNkID0gTC5jaXJjbGVNYXJrZXIoCiAgICAgICAgICAgICAgICBbNDAuNzM4NTkwMjQwNDc4NTIsIC03My45ODIyNjkyODcxMDkzOF0sCiAgICAgICAgICAgICAgICB7CiAgImJ1YmJsaW5nTW91c2VFdmVudHMiOiB0cnVlLAogICJjb2xvciI6ICJibHVlIiwKICAiZGFzaEFycmF5IjogbnVsbCwKICAiZGFzaE9mZnNldCI6IG51bGwsCiAgImZpbGwiOiB0cnVlLAogICJmaWxsQ29sb3IiOiAiI0ZEOEE2QyIsCiAgImZpbGxPcGFjaXR5IjogMC4yLAogICJmaWxsUnVsZSI6ICJldmVub2RkIiwKICAibGluZUNhcCI6ICJyb3VuZCIsCiAgImxpbmVKb2luIjogInJvdW5kIiwKICAib3BhY2l0eSI6IDEuMCwKICAicmFkaXVzIjogMywKICAic3Ryb2tlIjogdHJ1ZSwKICAid2VpZ2h0IjogMwp9CiAgICAgICAgICAgICAgICApCiAgICAgICAgICAgICAgICAuYWRkVG8obWFwXzFlYjQxNmRkODYxZDQ0YTFiNTdhM2ZkNWY0ZmNhYjdlKTsKICAgICAgICAgICAgCiAgICAKICAgICAgICAgICAgdmFyIHBvcHVwXzQwMGQ2YzMwN2E5ZjQ0MzNiZjRlYTkxZDE0NTAzZWJjID0gTC5wb3B1cCh7bWF4V2lkdGg6ICczMDAnCiAgICAgICAgICAgIAogICAgICAgICAgICB9KTsKCiAgICAgICAgICAgIAogICAgICAgICAgICAgICAgdmFyIGh0bWxfOTEzMzA5YTM3MWRjNGQ0NDlkNTlmMWE3NGQ0NjJkNjEgPSAkKCc8ZGl2IGlkPSJodG1sXzkxMzMwOWEzNzFkYzRkNDQ5ZDU5ZjFhNzRkNDYyZDYxIiBzdHlsZT0id2lkdGg6IDEwMC4wJTsgaGVpZ2h0OiAxMDAuMCU7Ij40MC43Mzg1OTAyNDA0Nzg1MiwtNzMuOTgyMjY5Mjg3MTA5Mzg8L2Rpdj4nKVswXTsKICAgICAgICAgICAgICAgIHBvcHVwXzQwMGQ2YzMwN2E5ZjQ0MzNiZjRlYTkxZDE0NTAzZWJjLnNldENvbnRlbnQoaHRtbF85MTMzMDlhMzcxZGM0ZDQ0OWQ1OWYxYTc0ZDQ2MmQ2MSk7CiAgICAgICAgICAgIAoKICAgICAgICAgICAgY2lyY2xlX21hcmtlcl84N2JmMDJjNTZlYmI0NzNkOTY0MGJmMTZiMmNkYTIzZC5iaW5kUG9wdXAocG9wdXBfNDAwZDZjMzA3YTlmNDQzM2JmNGVhOTFkMTQ1MDNlYmMpCiAgICAgICAgICAgIDsKCiAgICAgICAgICAgIAogICAgICAgIAogICAgCiAgICAgICAgICAgIHZhciBjaXJjbGVfbWFya2VyX2ZhY2I5NjUwMGY1MDQ1NDhiNTk2OGRhNTQ4MTFjNGQ1ID0gTC5jaXJjbGVNYXJrZXIoCiAgICAgICAgICAgICAgICBbNDAuNzQzNTY4NDIwNDEwMTU2LCAtNzMuOTkwNzYwODAzMjIyNjZdLAogICAgICAgICAgICAgICAgewogICJidWJibGluZ01vdXNlRXZlbnRzIjogdHJ1ZSwKICAiY29sb3IiOiAicmVkIiwKICAiZGFzaEFycmF5IjogbnVsbCwKICAiZGFzaE9mZnNldCI6IG51bGwsCiAgImZpbGwiOiB0cnVlLAogICJmaWxsQ29sb3IiOiAiI0ZEOEE2QyIsCiAgImZpbGxPcGFjaXR5IjogMC4yLAogICJmaWxsUnVsZSI6ICJldmVub2RkIiwKICAibGluZUNhcCI6ICJyb3VuZCIsCiAgImxpbmVKb2luIjogInJvdW5kIiwKICAib3BhY2l0eSI6IDEuMCwKICAicmFkaXVzIjogMywKICAic3Ryb2tlIjogdHJ1ZSwKICAid2VpZ2h0IjogMwp9CiAgICAgICAgICAgICAgICApCiAgICAgICAgICAgICAgICAuYWRkVG8obWFwXzFlYjQxNmRkODYxZDQ0YTFiNTdhM2ZkNWY0ZmNhYjdlKTsKICAgICAgICAgICAgCiAgICAKICAgICAgICAgICAgdmFyIHBvcHVwX2QzOTYwMDE4MDk5ZTQyMWNiNGY1ZTFlMGM2MmE4OGUzID0gTC5wb3B1cCh7bWF4V2lkdGg6ICczMDAnCiAgICAgICAgICAgIAogICAgICAgICAgICB9KTsKCiAgICAgICAgICAgIAogICAgICAgICAgICAgICAgdmFyIGh0bWxfYWMxMzVjMzk5YjViNDZjMmE3MzU1NDljMThhYjA4ODUgPSAkKCc8ZGl2IGlkPSJodG1sX2FjMTM1YzM5OWI1YjQ2YzJhNzM1NTQ5YzE4YWIwODg1IiBzdHlsZT0id2lkdGg6IDEwMC4wJTsgaGVpZ2h0OiAxMDAuMCU7Ij40MC43NDM1Njg0MjA0MTAxNTYsLTczLjk5MDc2MDgwMzIyMjY2PC9kaXY+JylbMF07CiAgICAgICAgICAgICAgICBwb3B1cF9kMzk2MDAxODA5OWU0MjFjYjRmNWUxZTBjNjJhODhlMy5zZXRDb250ZW50KGh0bWxfYWMxMzVjMzk5YjViNDZjMmE3MzU1NDljMThhYjA4ODUpOwogICAgICAgICAgICAKCiAgICAgICAgICAgIGNpcmNsZV9tYXJrZXJfZmFjYjk2NTAwZjUwNDU0OGI1OTY4ZGE1NDgxMWM0ZDUuYmluZFBvcHVwKHBvcHVwX2QzOTYwMDE4MDk5ZTQyMWNiNGY1ZTFlMGM2MmE4OGUzKQogICAgICAgICAgICA7CgogICAgICAgICAgICAKICAgICAgICAKICAgIAogICAgICAgICAgICAgICAgdmFyIHBvbHlfbGluZV81ZDExYTYxY2RlNTg0MDk5OWQ5NjBiYTAxNWQ4ZDM5NCA9IEwucG9seWxpbmUoCiAgICAgICAgICAgICAgICAgICAgW1s0MC43Mzg1OTAyNDA0Nzg1MiwgLTczLjk4MjI2OTI4NzEwOTM4XSwgWzQwLjc0MzU2ODQyMDQxMDE1NiwgLTczLjk5MDc2MDgwMzIyMjY2XV0sCiAgICAgICAgICAgICAgICAgICAgewogICJidWJibGluZ01vdXNlRXZlbnRzIjogdHJ1ZSwKICAiY29sb3IiOiAiZ3JlZW4iLAogICJkYXNoQXJyYXkiOiBudWxsLAogICJkYXNoT2Zmc2V0IjogbnVsbCwKICAiZmlsbCI6IGZhbHNlLAogICJmaWxsQ29sb3IiOiAiZ3JlZW4iLAogICJmaWxsT3BhY2l0eSI6IDAuMiwKICAiZmlsbFJ1bGUiOiAiZXZlbm9kZCIsCiAgImxpbmVDYXAiOiAicm91bmQiLAogICJsaW5lSm9pbiI6ICJyb3VuZCIsCiAgIm5vQ2xpcCI6IGZhbHNlLAogICJvcGFjaXR5IjogMS4wLAogICJzbW9vdGhGYWN0b3IiOiAxLjAsCiAgInN0cm9rZSI6IHRydWUsCiAgIndlaWdodCI6IDMKfQogICAgICAgICAgICAgICAgICAgICkKICAgICAgICAgICAgICAgICAgICAuYWRkVG8obWFwXzFlYjQxNmRkODYxZDQ0YTFiNTdhM2ZkNWY0ZmNhYjdlKTsKICAgICAgICAgICAgCjwvc2NyaXB0Pg==\" style=\"position:absolute;width:100%;height:100%;left:0;top:0;border:none !important;\" allowfullscreen webkitallowfullscreen mozallowfullscreen></iframe></div></div>"
      ],
      "text/plain": [
       "<folium.folium.Map at 0x7fae68e9a5f8>"
      ]
     },
     "execution_count": 11,
     "metadata": {},
     "output_type": "execute_result"
    }
   ],
   "source": [
    "def createMap(geo_map, data, i=10):\n",
    "    for each in X_train[:i].iterrows():\n",
    "        p1 = [each[1]['pickup_latitude'] ,each[1]['pickup_longitude']]\n",
    "        p2 = [each[1]['dropoff_latitude'], each[1]['dropoff_longitude']]\n",
    "        folium.CircleMarker(p1,\n",
    "                            radius=3,\n",
    "                            color='blue',\n",
    "                            popup=str(each[1]['pickup_latitude'])+','+str(each[1]['pickup_longitude']),\n",
    "                            fill_color='#FD8A6C'\n",
    "                            ).add_to(geo_map)\n",
    "        folium.CircleMarker(p2,\n",
    "                            radius=3,\n",
    "                            color='red',\n",
    "                            popup=str(each[1]['dropoff_latitude'])+','+str(each[1]['dropoff_longitude']),\n",
    "                            fill_color='#FD8A6C'\n",
    "                            ).add_to(geo_map)\n",
    "        folium.PolyLine(locations=[p1, p2], color='green').add_to(geo_map)\n",
    "    \n",
    "createMap(newyork_map, X_train)\n",
    "\n",
    "newyork_map"
   ]
  },
  {
   "cell_type": "code",
   "execution_count": 12,
   "metadata": {},
   "outputs": [
    {
     "data": {
      "text/html": [
       "<div>\n",
       "<style scoped>\n",
       "    .dataframe tbody tr th:only-of-type {\n",
       "        vertical-align: middle;\n",
       "    }\n",
       "\n",
       "    .dataframe tbody tr th {\n",
       "        vertical-align: top;\n",
       "    }\n",
       "\n",
       "    .dataframe thead th {\n",
       "        text-align: right;\n",
       "    }\n",
       "</style>\n",
       "<table border=\"1\" class=\"dataframe\">\n",
       "  <thead>\n",
       "    <tr style=\"text-align: right;\">\n",
       "      <th></th>\n",
       "      <th>id</th>\n",
       "      <th>vendor_id</th>\n",
       "      <th>pickup_datetime</th>\n",
       "      <th>dropoff_datetime</th>\n",
       "      <th>passenger_count</th>\n",
       "      <th>pickup_longitude</th>\n",
       "      <th>pickup_latitude</th>\n",
       "      <th>dropoff_longitude</th>\n",
       "      <th>dropoff_latitude</th>\n",
       "      <th>store_and_fwd_flag</th>\n",
       "      <th>distance</th>\n",
       "    </tr>\n",
       "  </thead>\n",
       "  <tbody>\n",
       "    <tr>\n",
       "      <th>47726</th>\n",
       "      <td>id1300757</td>\n",
       "      <td>2</td>\n",
       "      <td>2016-05-04 18:36:52</td>\n",
       "      <td>2016-05-04 19:16:56</td>\n",
       "      <td>1</td>\n",
       "      <td>-73.8709</td>\n",
       "      <td>40.7738</td>\n",
       "      <td>-73.9787</td>\n",
       "      <td>40.7625</td>\n",
       "      <td>N</td>\n",
       "      <td>9.161363</td>\n",
       "    </tr>\n",
       "    <tr>\n",
       "      <th>83469</th>\n",
       "      <td>id3121281</td>\n",
       "      <td>2</td>\n",
       "      <td>2016-05-20 01:44:40</td>\n",
       "      <td>2016-05-20 01:59:37</td>\n",
       "      <td>2</td>\n",
       "      <td>-73.9932</td>\n",
       "      <td>40.6827</td>\n",
       "      <td>-73.9529</td>\n",
       "      <td>40.6525</td>\n",
       "      <td>N</td>\n",
       "      <td>4.780321</td>\n",
       "    </tr>\n",
       "    <tr>\n",
       "      <th>113890</th>\n",
       "      <td>id0447166</td>\n",
       "      <td>2</td>\n",
       "      <td>2016-01-26 11:56:04</td>\n",
       "      <td>2016-01-26 12:04:18</td>\n",
       "      <td>3</td>\n",
       "      <td>-73.9475</td>\n",
       "      <td>40.7906</td>\n",
       "      <td>-73.9594</td>\n",
       "      <td>40.7829</td>\n",
       "      <td>N</td>\n",
       "      <td>1.318140</td>\n",
       "    </tr>\n",
       "    <tr>\n",
       "      <th>395</th>\n",
       "      <td>id1301295</td>\n",
       "      <td>1</td>\n",
       "      <td>2016-02-19 11:08:22</td>\n",
       "      <td>2016-02-19 11:36:11</td>\n",
       "      <td>1</td>\n",
       "      <td>-74.0099</td>\n",
       "      <td>40.7211</td>\n",
       "      <td>-73.8727</td>\n",
       "      <td>40.7743</td>\n",
       "      <td>N</td>\n",
       "      <td>12.989188</td>\n",
       "    </tr>\n",
       "    <tr>\n",
       "      <th>115060</th>\n",
       "      <td>id3613539</td>\n",
       "      <td>2</td>\n",
       "      <td>2016-04-25 16:55:55</td>\n",
       "      <td>2016-04-25 17:07:06</td>\n",
       "      <td>2</td>\n",
       "      <td>-74.0072</td>\n",
       "      <td>40.7054</td>\n",
       "      <td>-73.9652</td>\n",
       "      <td>40.7577</td>\n",
       "      <td>N</td>\n",
       "      <td>6.810164</td>\n",
       "    </tr>\n",
       "  </tbody>\n",
       "</table>\n",
       "</div>"
      ],
      "text/plain": [
       "               id vendor_id      pickup_datetime     dropoff_datetime  \\\n",
       "47726   id1300757         2  2016-05-04 18:36:52  2016-05-04 19:16:56   \n",
       "83469   id3121281         2  2016-05-20 01:44:40  2016-05-20 01:59:37   \n",
       "113890  id0447166         2  2016-01-26 11:56:04  2016-01-26 12:04:18   \n",
       "395     id1301295         1  2016-02-19 11:08:22  2016-02-19 11:36:11   \n",
       "115060  id3613539         2  2016-04-25 16:55:55  2016-04-25 17:07:06   \n",
       "\n",
       "       passenger_count pickup_longitude pickup_latitude dropoff_longitude  \\\n",
       "47726                1         -73.8709         40.7738          -73.9787   \n",
       "83469                2         -73.9932         40.6827          -73.9529   \n",
       "113890               3         -73.9475         40.7906          -73.9594   \n",
       "395                  1         -74.0099         40.7211          -73.8727   \n",
       "115060               2         -74.0072         40.7054          -73.9652   \n",
       "\n",
       "       dropoff_latitude store_and_fwd_flag   distance  \n",
       "47726           40.7625                  N   9.161363  \n",
       "83469           40.6525                  N   4.780321  \n",
       "113890          40.7829                  N   1.318140  \n",
       "395             40.7743                  N  12.989188  \n",
       "115060          40.7577                  N   6.810164  "
      ]
     },
     "execution_count": 12,
     "metadata": {},
     "output_type": "execute_result"
    }
   ],
   "source": [
    "import mpu\n",
    "\n",
    "def calculateDistances(data, distances):\n",
    "    for each in data.iterrows():\n",
    "        lat1 = float(each[1]['pickup_latitude'])\n",
    "        lon1 = float(each[1]['pickup_longitude'])\n",
    "        lat2 = float(each[1]['dropoff_latitude'])\n",
    "        lon2 = float(each[1]['dropoff_longitude'])\n",
    "        dist = mpu.haversine_distance((lat1, lon1), (lat2, lon2))\n",
    "        distances.append(dist)\n",
    "        \n",
    "\n",
    "distances = []\n",
    "calculateDistances(X_train, distances)\n",
    "\n",
    "distances = np.array(distances)\n",
    "X_train_copy = X_train.copy()\n",
    "X_train_copy['distance'] = distances\n",
    "X_train_copy.head()"
   ]
  },
  {
   "cell_type": "code",
   "execution_count": 13,
   "metadata": {},
   "outputs": [
    {
     "name": "stdout",
     "output_type": "stream",
     "text": [
      "passenger_count        int64\n",
      "pickup_longitude     float64\n",
      "pickup_latitude      float64\n",
      "dropoff_longitude    float64\n",
      "dropoff_latitude     float64\n",
      "distance             float64\n",
      "wday                   uint8\n",
      "day                    uint8\n",
      "hour                   uint8\n",
      "minute                 uint8\n",
      "second                 uint8\n",
      "doy                    uint8\n",
      "dtype: object\n"
     ]
    }
   ],
   "source": [
    "\n",
    "#time\n",
    "\n",
    "X_train_copy['wday']                 = pd.to_datetime(X_train_copy.pickup_datetime).dt.dayofweek.astype('uint8')\n",
    "X_train_copy['day']                  = pd.to_datetime(X_train_copy.pickup_datetime).dt.day.astype('uint8')\n",
    "X_train_copy['hour']                 = pd.to_datetime(X_train_copy.pickup_datetime).dt.hour.astype('uint8')\n",
    "X_train_copy['minute']               = pd.to_datetime(X_train_copy.pickup_datetime).dt.minute.astype('uint8')\n",
    "X_train_copy['second']               = pd.to_datetime(X_train_copy.pickup_datetime).dt.second.astype('uint8')\n",
    "X_train_copy[\"doy\"]                  = pd.to_datetime(X_train_copy.pickup_datetime).dt.dayofyear.astype('uint8')\n",
    "\n",
    "X_train_copy                         = X_train_copy.drop(['vendor_id','id','pickup_datetime','dropoff_datetime','store_and_fwd_flag'],axis=1)\n",
    "X_train_copy['passenger_count']      = pd.to_numeric(X_train.passenger_count)\n",
    "X_train_copy['pickup_longitude']     = pd.to_numeric(X_train_copy.pickup_longitude)\n",
    "X_train_copy['pickup_latitude']      = pd.to_numeric(X_train_copy.pickup_latitude)\n",
    "X_train_copy['dropoff_longitude']    = pd.to_numeric(X_train_copy.dropoff_longitude)\n",
    "X_train_copy['dropoff_latitude']     = pd.to_numeric(X_train_copy.dropoff_latitude)\n",
    "\n",
    "print(X_train_copy.dtypes)"
   ]
  },
  {
   "cell_type": "code",
   "execution_count": null,
   "metadata": {},
   "outputs": [],
   "source": []
  },
  {
   "cell_type": "markdown",
   "metadata": {},
   "source": [
    "\n"
   ]
  },
  {
   "cell_type": "code",
   "execution_count": 14,
   "metadata": {},
   "outputs": [
    {
     "data": {
      "text/html": [
       "<div>\n",
       "<style scoped>\n",
       "    .dataframe tbody tr th:only-of-type {\n",
       "        vertical-align: middle;\n",
       "    }\n",
       "\n",
       "    .dataframe tbody tr th {\n",
       "        vertical-align: top;\n",
       "    }\n",
       "\n",
       "    .dataframe thead th {\n",
       "        text-align: right;\n",
       "    }\n",
       "</style>\n",
       "<table border=\"1\" class=\"dataframe\">\n",
       "  <thead>\n",
       "    <tr style=\"text-align: right;\">\n",
       "      <th></th>\n",
       "      <th>passenger_count</th>\n",
       "      <th>pickup_longitude</th>\n",
       "      <th>pickup_latitude</th>\n",
       "      <th>dropoff_longitude</th>\n",
       "      <th>dropoff_latitude</th>\n",
       "      <th>distance</th>\n",
       "      <th>wday</th>\n",
       "      <th>day</th>\n",
       "      <th>hour</th>\n",
       "      <th>minute</th>\n",
       "      <th>second</th>\n",
       "      <th>doy</th>\n",
       "    </tr>\n",
       "  </thead>\n",
       "  <tbody>\n",
       "    <tr>\n",
       "      <th>47726</th>\n",
       "      <td>1</td>\n",
       "      <td>-73.870903</td>\n",
       "      <td>40.773762</td>\n",
       "      <td>-73.978661</td>\n",
       "      <td>40.762459</td>\n",
       "      <td>9.161363</td>\n",
       "      <td>2</td>\n",
       "      <td>4</td>\n",
       "      <td>18</td>\n",
       "      <td>36</td>\n",
       "      <td>52</td>\n",
       "      <td>125</td>\n",
       "    </tr>\n",
       "    <tr>\n",
       "      <th>83469</th>\n",
       "      <td>2</td>\n",
       "      <td>-73.993210</td>\n",
       "      <td>40.682652</td>\n",
       "      <td>-73.952873</td>\n",
       "      <td>40.652451</td>\n",
       "      <td>4.780321</td>\n",
       "      <td>4</td>\n",
       "      <td>20</td>\n",
       "      <td>1</td>\n",
       "      <td>44</td>\n",
       "      <td>40</td>\n",
       "      <td>141</td>\n",
       "    </tr>\n",
       "    <tr>\n",
       "      <th>113890</th>\n",
       "      <td>3</td>\n",
       "      <td>-73.947517</td>\n",
       "      <td>40.790630</td>\n",
       "      <td>-73.959419</td>\n",
       "      <td>40.782928</td>\n",
       "      <td>1.318140</td>\n",
       "      <td>1</td>\n",
       "      <td>26</td>\n",
       "      <td>11</td>\n",
       "      <td>56</td>\n",
       "      <td>4</td>\n",
       "      <td>26</td>\n",
       "    </tr>\n",
       "    <tr>\n",
       "      <th>395</th>\n",
       "      <td>1</td>\n",
       "      <td>-74.009949</td>\n",
       "      <td>40.721081</td>\n",
       "      <td>-73.872711</td>\n",
       "      <td>40.774334</td>\n",
       "      <td>12.989188</td>\n",
       "      <td>4</td>\n",
       "      <td>19</td>\n",
       "      <td>11</td>\n",
       "      <td>8</td>\n",
       "      <td>22</td>\n",
       "      <td>50</td>\n",
       "    </tr>\n",
       "    <tr>\n",
       "      <th>115060</th>\n",
       "      <td>2</td>\n",
       "      <td>-74.007172</td>\n",
       "      <td>40.705376</td>\n",
       "      <td>-73.965179</td>\n",
       "      <td>40.757706</td>\n",
       "      <td>6.810164</td>\n",
       "      <td>0</td>\n",
       "      <td>25</td>\n",
       "      <td>16</td>\n",
       "      <td>55</td>\n",
       "      <td>55</td>\n",
       "      <td>116</td>\n",
       "    </tr>\n",
       "  </tbody>\n",
       "</table>\n",
       "</div>"
      ],
      "text/plain": [
       "        passenger_count  pickup_longitude  pickup_latitude  dropoff_longitude  \\\n",
       "47726                 1        -73.870903        40.773762         -73.978661   \n",
       "83469                 2        -73.993210        40.682652         -73.952873   \n",
       "113890                3        -73.947517        40.790630         -73.959419   \n",
       "395                   1        -74.009949        40.721081         -73.872711   \n",
       "115060                2        -74.007172        40.705376         -73.965179   \n",
       "\n",
       "        dropoff_latitude   distance  wday  day  hour  minute  second  doy  \n",
       "47726          40.762459   9.161363     2    4    18      36      52  125  \n",
       "83469          40.652451   4.780321     4   20     1      44      40  141  \n",
       "113890         40.782928   1.318140     1   26    11      56       4   26  \n",
       "395            40.774334  12.989188     4   19    11       8      22   50  \n",
       "115060         40.757706   6.810164     0   25    16      55      55  116  "
      ]
     },
     "execution_count": 14,
     "metadata": {},
     "output_type": "execute_result"
    }
   ],
   "source": [
    "X_train_copy.head()"
   ]
  },
  {
   "cell_type": "code",
   "execution_count": 15,
   "metadata": {},
   "outputs": [
    {
     "name": "stdout",
     "output_type": "stream",
     "text": [
      "<class 'pandas.core.frame.DataFrame'>\n",
      "Int64Index: 102104 entries, 47726 to 121958\n",
      "Data columns (total 12 columns):\n",
      "passenger_count      102104 non-null int64\n",
      "pickup_longitude     102104 non-null float64\n",
      "pickup_latitude      102104 non-null float64\n",
      "dropoff_longitude    102104 non-null float64\n",
      "dropoff_latitude     102104 non-null float64\n",
      "distance             102104 non-null float64\n",
      "wday                 102104 non-null uint8\n",
      "day                  102104 non-null uint8\n",
      "hour                 102104 non-null uint8\n",
      "minute               102104 non-null uint8\n",
      "second               102104 non-null uint8\n",
      "doy                  102104 non-null uint8\n",
      "dtypes: float64(5), int64(1), uint8(6)\n",
      "memory usage: 6.0 MB\n"
     ]
    }
   ],
   "source": [
    "X_train_copy.info()"
   ]
  },
  {
   "cell_type": "code",
   "execution_count": 16,
   "metadata": {},
   "outputs": [
    {
     "data": {
      "text/plain": [
       "<matplotlib.axes._subplots.AxesSubplot at 0x7fae67fb8470>"
      ]
     },
     "execution_count": 16,
     "metadata": {},
     "output_type": "execute_result"
    },
    {
     "data": {
      "image/png": "[encoded data removed]",
      "text/plain": [
       "<Figure size 432x288 with 2 Axes>"
      ]
     },
     "metadata": {
      "needs_background": "light"
     },
     "output_type": "display_data"
    }
   ],
   "source": [
    "\n",
    "sns.heatmap(X_train_copy.corr(), cmap='Blues')\n"
   ]
  },
  {
   "cell_type": "code",
   "execution_count": 17,
   "metadata": {},
   "outputs": [
    {
     "data": {
      "text/plain": [
       "0"
      ]
     },
     "execution_count": 17,
     "metadata": {},
     "output_type": "execute_result"
    }
   ],
   "source": [
    "X_train_copy.isnull().sum(axis=0).sum(axis=0)"
   ]
  },
  {
   "cell_type": "code",
   "execution_count": 18,
   "metadata": {},
   "outputs": [
    {
     "name": "stdout",
     "output_type": "stream",
     "text": [
      "<class 'pandas.core.frame.DataFrame'>\n",
      "Int64Index: 102104 entries, 518559 to 1318674\n",
      "Data columns (total 1 columns):\n",
      "trip_duration    102104 non-null int64\n",
      "dtypes: int64(1)\n",
      "memory usage: 1.6 MB\n"
     ]
    },
    {
     "data": {
      "text/html": [
       "<div>\n",
       "<style scoped>\n",
       "    .dataframe tbody tr th:only-of-type {\n",
       "        vertical-align: middle;\n",
       "    }\n",
       "\n",
       "    .dataframe tbody tr th {\n",
       "        vertical-align: top;\n",
       "    }\n",
       "\n",
       "    .dataframe thead th {\n",
       "        text-align: right;\n",
       "    }\n",
       "</style>\n",
       "<table border=\"1\" class=\"dataframe\">\n",
       "  <thead>\n",
       "    <tr style=\"text-align: right;\">\n",
       "      <th></th>\n",
       "      <th>trip_duration</th>\n",
       "    </tr>\n",
       "  </thead>\n",
       "  <tbody>\n",
       "    <tr>\n",
       "      <th>518559</th>\n",
       "      <td>2404</td>\n",
       "    </tr>\n",
       "    <tr>\n",
       "      <th>989392</th>\n",
       "      <td>897</td>\n",
       "    </tr>\n",
       "    <tr>\n",
       "      <th>99540</th>\n",
       "      <td>494</td>\n",
       "    </tr>\n",
       "    <tr>\n",
       "      <th>323455</th>\n",
       "      <td>1669</td>\n",
       "    </tr>\n",
       "    <tr>\n",
       "      <th>1062077</th>\n",
       "      <td>671</td>\n",
       "    </tr>\n",
       "  </tbody>\n",
       "</table>\n",
       "</div>"
      ],
      "text/plain": [
       "         trip_duration\n",
       "518559            2404\n",
       "989392             897\n",
       "99540              494\n",
       "323455            1669\n",
       "1062077            671"
      ]
     },
     "execution_count": 18,
     "metadata": {},
     "output_type": "execute_result"
    }
   ],
   "source": [
    "y_train.info()\n",
    "y_train.head()"
   ]
  },
  {
   "cell_type": "code",
   "execution_count": 19,
   "metadata": {},
   "outputs": [
    {
     "data": {
      "text/plain": [
       "LinearRegression(copy_X=True, fit_intercept=True, n_jobs=None,\n",
       "         normalize=False)"
      ]
     },
     "execution_count": 19,
     "metadata": {},
     "output_type": "execute_result"
    }
   ],
   "source": [
    "from sklearn.linear_model import LinearRegression\n",
    "lin_reg = LinearRegression()\n",
    "lin_reg.fit(X_train_copy.values, y_train.values)"
   ]
  },
  {
   "cell_type": "code",
   "execution_count": 30,
   "metadata": {},
   "outputs": [
    {
     "data": {
      "text/plain": [
       "0.023148531847391185"
      ]
     },
     "execution_count": 30,
     "metadata": {},
     "output_type": "execute_result"
    }
   ],
   "source": [
    "lin_reg.score(X_train_copy, y_train.values)"
   ]
  },
  {
   "cell_type": "code",
   "execution_count": 20,
   "metadata": {},
   "outputs": [],
   "source": [
    "from sklearn.ensemble import RandomForestClassifier"
   ]
  },
  {
   "cell_type": "code",
   "execution_count": 21,
   "metadata": {},
   "outputs": [],
   "source": [
    "#rf_clf = RandomForestClassifier(n_estimators=50, max_depth=3, random_state=42)\n",
    "#y_train.values\n",
    "#X_train_copy.values\n",
    "#rf_clf.fit(X_train_copy, y_train)"
   ]
  },
  {
   "cell_type": "code",
   "execution_count": 22,
   "metadata": {},
   "outputs": [],
   "source": [
    "#rf_clf.fit(X_train_copy.values.ravel(), y_train.values.ravel())"
   ]
  },
  {
   "cell_type": "code",
   "execution_count": 23,
   "metadata": {},
   "outputs": [],
   "source": [
    "#rf_clf.score(X_val, y_val)"
   ]
  },
  {
   "cell_type": "code",
   "execution_count": 24,
   "metadata": {},
   "outputs": [],
   "source": [
    "#importances = rf_clf.feature_importances_"
   ]
  },
  {
   "cell_type": "code",
   "execution_count": 25,
   "metadata": {},
   "outputs": [],
   "source": [
    "#indices = np.argsort(importances)[::-1]"
   ]
  },
  {
   "cell_type": "code",
   "execution_count": 26,
   "metadata": {},
   "outputs": [],
   "source": [
    "#for f in range(10): \n",
    "#    print(f'{X.columns[indices[f]]}: {np.round(importances[indices[f]],2)}')"
   ]
  }
 ],
 "metadata": {
  "kernelspec": {
   "display_name": "Python 3",
   "language": "python",
   "name": "python3"
  },
  "language_info": {
   "codemirror_mode": {
    "name": "ipython",
    "version": 3
   },
   "file_extension": ".py",
   "mimetype": "text/x-python",
   "name": "python",
   "nbconvert_exporter": "python",
   "pygments_lexer": "ipython3",
   "version": "3.6.7"
  }
 },
 "nbformat": 4,
 "nbformat_minor": 2
}
